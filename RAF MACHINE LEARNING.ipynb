{
 "cells": [
  {
   "cell_type": "markdown",
   "metadata": {},
   "source": [
    "# RAF MACHINE LEARNING"
   ]
  },
  {
   "cell_type": "code",
   "execution_count": 1,
   "metadata": {},
   "outputs": [],
   "source": [
    "import numpy as np\n",
    "import matplotlib.pyplot as plt\n",
    "import pandas as pd\n",
    "from scipy.optimize import curve_fit\n",
    "from sklearn.metrics import mean_squared_error\n",
    "import glob\n",
    "from datetime import timedelta, datetime\n",
    "%matplotlib inline\n",
    "pd.set_option('display.max_columns', None)\n",
    "import warnings\n",
    "warnings.filterwarnings('ignore')"
   ]
  },
  {
   "cell_type": "markdown",
   "metadata": {},
   "source": [
    "In this notebook, we will walk through solving a complete machine learning problem using a real-world dataset. \n",
    "### Project definition\n",
    "__Use the provided SDR by DTAG to develop a model that can predict a call fraud, and then interpret the results to find the variables that are most predictive of the score.__\n",
    "\n",
    "This is a supervised machine learning task: given a set of data with targets (in this case the RAF_BARRED) included, we want to train a model that can learn to map the features  to the target. \n",
    "\n",
    "* Supervised problem: we are given both the features and the target\n",
    "\n",
    "During training, we want the model to learn the relationship between the features and the score so we give it both the features and the answer. Then, to test how well the model has learned, we evaluate it on a testing set where it has never seen the answers! "
   ]
  },
  {
   "cell_type": "markdown",
   "metadata": {},
   "source": [
    "# Data Cleaning and Formatting\n",
    "\n",
    "## Load in the Data and Examine\n",
    "\n",
    "We will be loading our data into a pandas dataframe, one of the most useful data structures for data science."
   ]
  },
  {
   "cell_type": "code",
   "execution_count": 2,
   "metadata": {},
   "outputs": [],
   "source": [
    "path = r'C:\\Users\\DS\\Project\\Moco\\dataDTAG'\n",
    "all_files = glob.glob(path + \"/*.dat\")\n",
    "\n",
    "li = []\n",
    "\n",
    "for filename in all_files:\n",
    "    df = pd.read_csv(filename,delimiter=\";\",names=['CDR_ID','PRODUCT_ID','PRODUCT_NAME','SYSTEM_ID','BILLING_TAG','IMSI','MSISDN','IMEI','EVENT_NAME','HOME_COUNTRY_ID','HOME_COUNTRY_NAME','VISITED_COUNTRY_ID','VISITED_COUNTRY_NAME','HOME_NETWORK_ID','HOME_NETWORK_NAME','HOME_PLMN_CODE','VISITED_NETWORK_ID','VISITED_NETWORK_NAME','CLI_IN','CLI_OUT','DN_ORIG','DN_IN','DN_OUT','DN_IN_NOA','REDIRECTION_NUMBER','CALL_TYPE','ROAMING_TYPE','SERVICE_KEY_IN','CURRENT_MSC_GT','SCCP_CALLED_GT','SCCP_CALLING_GT','CALL_END_CLEAR_CAUSE_ID','CALL_END_CLEAR_CAUSE_NAME','CALL_END_NETWORK_CLEAR_CAUSE','SESSION_START_TS','SESSION_END_TS','SESSION_DESC','SESSION_TS_ANSWER','SESSION_TS_DISCONNECT','SESSION_DUR_SEC','EXTERNAL_CALL_REF_NUM','ICA_TRANSLATED_NUMBER','HSC_TRANSLATED_NUMBER','HSC_EXTERNAL_TRANS_NUMBER','DID_NUMBER','CLI_DELIVERY','HSC_FLAG','HRR_FLAG','RAF_FLAG','ICA_FLAG','HSC_REASON','HRR_REASON','ICA_REASON','DISCONNECT_LEG','MATCHING_RULE_NUMBER','ICA_COLLISION_RULE_ID','M_REMOTEGATE','IS_HRR_FOR_REMOTE_FLAG','SMS_TEXT','LANGUAGE_NUM','SMS_CALLBACK_NUM','SMS_TYPE','OWNER_BILLING_TAG','INCOMING_CALL_DIRECTION','OUTGOING_CALL_DIRECTION','CALL_REFERENCE','SUB_SERVICE_BILLING_TAG','ICA_ACTION','CAMEL_PHASE','ICA_COMM_ID','CAMEL_USER','CALL_REFERENCE_LEG2','SERVICE_TYPE_LEG2','RAF_NORMALIZE_TYPE','RAF_DN_PRE_NORMALIZATION','RAF_NORMALIZED_DN','RAF_ACTIVATED_RULE_ID','RAF_EVENT_REPLY','RAF_STATUS','CALL_CONTEXT_ID','RAF_BARRING_CASE_ID','RAF_MONITORED_RULE_ID','RAF_EMAIL_NOTIFICATION_FLAG','RAF_CRM_NOTIFICATION_FLAG','RAF_SMS_NOTIFICATION_FLAG','GDA_EXTERNAL_CALL_REF_NUM','HANDLE_TAP_IND','IS_SMS_SENT','SMS_CLEAR_CAUSE','CALL_REFERENCE_LEG3','IMSI_PREFIX_HOME','IMSI_PREFIX_VISITED','AFFILIATE_ID','RAF_ACTIVATED_RULE_ON_ANSWER'])\n",
    "    li.append(df)\n",
    "\n",
    "df = pd.concat(li, axis=0, ignore_index=True)"
   ]
  },
  {
   "cell_type": "code",
   "execution_count": 3,
   "metadata": {},
   "outputs": [
    {
     "data": {
      "text/html": [
       "<div>\n",
       "<style scoped>\n",
       "    .dataframe tbody tr th:only-of-type {\n",
       "        vertical-align: middle;\n",
       "    }\n",
       "\n",
       "    .dataframe tbody tr th {\n",
       "        vertical-align: top;\n",
       "    }\n",
       "\n",
       "    .dataframe thead th {\n",
       "        text-align: right;\n",
       "    }\n",
       "</style>\n",
       "<table border=\"1\" class=\"dataframe\">\n",
       "  <thead>\n",
       "    <tr style=\"text-align: right;\">\n",
       "      <th></th>\n",
       "      <th>CDR_ID</th>\n",
       "      <th>PRODUCT_ID</th>\n",
       "      <th>PRODUCT_NAME</th>\n",
       "      <th>SYSTEM_ID</th>\n",
       "      <th>BILLING_TAG</th>\n",
       "      <th>IMSI</th>\n",
       "      <th>MSISDN</th>\n",
       "      <th>IMEI</th>\n",
       "      <th>EVENT_NAME</th>\n",
       "      <th>HOME_COUNTRY_ID</th>\n",
       "      <th>HOME_COUNTRY_NAME</th>\n",
       "      <th>VISITED_COUNTRY_ID</th>\n",
       "      <th>VISITED_COUNTRY_NAME</th>\n",
       "      <th>HOME_NETWORK_ID</th>\n",
       "      <th>HOME_NETWORK_NAME</th>\n",
       "      <th>HOME_PLMN_CODE</th>\n",
       "      <th>VISITED_NETWORK_ID</th>\n",
       "      <th>VISITED_NETWORK_NAME</th>\n",
       "      <th>CLI_IN</th>\n",
       "      <th>CLI_OUT</th>\n",
       "      <th>DN_ORIG</th>\n",
       "      <th>DN_IN</th>\n",
       "      <th>DN_OUT</th>\n",
       "      <th>DN_IN_NOA</th>\n",
       "      <th>REDIRECTION_NUMBER</th>\n",
       "      <th>CALL_TYPE</th>\n",
       "      <th>ROAMING_TYPE</th>\n",
       "      <th>SERVICE_KEY_IN</th>\n",
       "      <th>CURRENT_MSC_GT</th>\n",
       "      <th>SCCP_CALLED_GT</th>\n",
       "      <th>SCCP_CALLING_GT</th>\n",
       "      <th>CALL_END_CLEAR_CAUSE_ID</th>\n",
       "      <th>CALL_END_CLEAR_CAUSE_NAME</th>\n",
       "      <th>CALL_END_NETWORK_CLEAR_CAUSE</th>\n",
       "      <th>SESSION_START_TS</th>\n",
       "      <th>SESSION_END_TS</th>\n",
       "      <th>SESSION_DESC</th>\n",
       "      <th>SESSION_TS_ANSWER</th>\n",
       "      <th>SESSION_TS_DISCONNECT</th>\n",
       "      <th>SESSION_DUR_SEC</th>\n",
       "      <th>EXTERNAL_CALL_REF_NUM</th>\n",
       "      <th>ICA_TRANSLATED_NUMBER</th>\n",
       "      <th>HSC_TRANSLATED_NUMBER</th>\n",
       "      <th>HSC_EXTERNAL_TRANS_NUMBER</th>\n",
       "      <th>DID_NUMBER</th>\n",
       "      <th>CLI_DELIVERY</th>\n",
       "      <th>HSC_FLAG</th>\n",
       "      <th>HRR_FLAG</th>\n",
       "      <th>RAF_FLAG</th>\n",
       "      <th>ICA_FLAG</th>\n",
       "      <th>HSC_REASON</th>\n",
       "      <th>HRR_REASON</th>\n",
       "      <th>ICA_REASON</th>\n",
       "      <th>DISCONNECT_LEG</th>\n",
       "      <th>MATCHING_RULE_NUMBER</th>\n",
       "      <th>ICA_COLLISION_RULE_ID</th>\n",
       "      <th>M_REMOTEGATE</th>\n",
       "      <th>IS_HRR_FOR_REMOTE_FLAG</th>\n",
       "      <th>SMS_TEXT</th>\n",
       "      <th>LANGUAGE_NUM</th>\n",
       "      <th>SMS_CALLBACK_NUM</th>\n",
       "      <th>SMS_TYPE</th>\n",
       "      <th>OWNER_BILLING_TAG</th>\n",
       "      <th>INCOMING_CALL_DIRECTION</th>\n",
       "      <th>OUTGOING_CALL_DIRECTION</th>\n",
       "      <th>CALL_REFERENCE</th>\n",
       "      <th>SUB_SERVICE_BILLING_TAG</th>\n",
       "      <th>ICA_ACTION</th>\n",
       "      <th>CAMEL_PHASE</th>\n",
       "      <th>ICA_COMM_ID</th>\n",
       "      <th>CAMEL_USER</th>\n",
       "      <th>CALL_REFERENCE_LEG2</th>\n",
       "      <th>SERVICE_TYPE_LEG2</th>\n",
       "      <th>RAF_NORMALIZE_TYPE</th>\n",
       "      <th>RAF_DN_PRE_NORMALIZATION</th>\n",
       "      <th>RAF_NORMALIZED_DN</th>\n",
       "      <th>RAF_ACTIVATED_RULE_ID</th>\n",
       "      <th>RAF_EVENT_REPLY</th>\n",
       "      <th>RAF_STATUS</th>\n",
       "      <th>CALL_CONTEXT_ID</th>\n",
       "      <th>RAF_BARRING_CASE_ID</th>\n",
       "      <th>RAF_MONITORED_RULE_ID</th>\n",
       "      <th>RAF_EMAIL_NOTIFICATION_FLAG</th>\n",
       "      <th>RAF_CRM_NOTIFICATION_FLAG</th>\n",
       "      <th>RAF_SMS_NOTIFICATION_FLAG</th>\n",
       "      <th>GDA_EXTERNAL_CALL_REF_NUM</th>\n",
       "      <th>HANDLE_TAP_IND</th>\n",
       "      <th>IS_SMS_SENT</th>\n",
       "      <th>SMS_CLEAR_CAUSE</th>\n",
       "      <th>CALL_REFERENCE_LEG3</th>\n",
       "      <th>IMSI_PREFIX_HOME</th>\n",
       "      <th>IMSI_PREFIX_VISITED</th>\n",
       "      <th>AFFILIATE_ID</th>\n",
       "      <th>RAF_ACTIVATED_RULE_ON_ANSWER</th>\n",
       "    </tr>\n",
       "  </thead>\n",
       "  <tbody>\n",
       "    <tr>\n",
       "      <th>0</th>\n",
       "      <td>27811518400</td>\n",
       "      <td>900001</td>\n",
       "      <td>MOCO</td>\n",
       "      <td>4</td>\n",
       "      <td>999999</td>\n",
       "      <td>262017444077152</td>\n",
       "      <td>491605839415</td>\n",
       "      <td>NaN</td>\n",
       "      <td>IDP</td>\n",
       "      <td>164</td>\n",
       "      <td>GERMANY</td>\n",
       "      <td>175</td>\n",
       "      <td>SWITZERLAND</td>\n",
       "      <td>58</td>\n",
       "      <td>26201</td>\n",
       "      <td>NaN</td>\n",
       "      <td>39</td>\n",
       "      <td>22803.0</td>\n",
       "      <td>4.916058e+11</td>\n",
       "      <td>4.916058e+11</td>\n",
       "      <td>491733268714</td>\n",
       "      <td>4.91733e+11</td>\n",
       "      <td>4.91733e+11</td>\n",
       "      <td>4</td>\n",
       "      <td>NaN</td>\n",
       "      <td>MO</td>\n",
       "      <td>OUT</td>\n",
       "      <td>2</td>\n",
       "      <td>41789310205</td>\n",
       "      <td>4917007525</td>\n",
       "      <td>41789310202</td>\n",
       "      <td>18</td>\n",
       "      <td>DISCONNECT</td>\n",
       "      <td>16</td>\n",
       "      <td>27.06.19 06:50:16.304</td>\n",
       "      <td>27.06.19 07:00:00.104</td>\n",
       "      <td>DISCONNECT</td>\n",
       "      <td>27.06.19 06:50:23.825</td>\n",
       "      <td>27.06.19 07:00:00.104</td>\n",
       "      <td>00:09:36</td>\n",
       "      <td>04D11423409274</td>\n",
       "      <td>NaN</td>\n",
       "      <td>NaN</td>\n",
       "      <td>NaN</td>\n",
       "      <td>NaN</td>\n",
       "      <td>0</td>\n",
       "      <td>0</td>\n",
       "      <td>0</td>\n",
       "      <td>1</td>\n",
       "      <td>1</td>\n",
       "      <td>NONE</td>\n",
       "      <td>NONE</td>\n",
       "      <td>16</td>\n",
       "      <td>1</td>\n",
       "      <td>NaN</td>\n",
       "      <td>NaN</td>\n",
       "      <td>NaN</td>\n",
       "      <td>0</td>\n",
       "      <td>NaN</td>\n",
       "      <td>NaN</td>\n",
       "      <td>NaN</td>\n",
       "      <td>NaN</td>\n",
       "      <td>NaN</td>\n",
       "      <td>1</td>\n",
       "      <td>24.0</td>\n",
       "      <td>27811518400</td>\n",
       "      <td>999999</td>\n",
       "      <td>0</td>\n",
       "      <td>2</td>\n",
       "      <td>0</td>\n",
       "      <td>0</td>\n",
       "      <td>27811518401</td>\n",
       "      <td>0</td>\n",
       "      <td>1</td>\n",
       "      <td>491733268714</td>\n",
       "      <td>491733268714</td>\n",
       "      <td>NaN</td>\n",
       "      <td>3</td>\n",
       "      <td>0</td>\n",
       "      <td>97b2cba5-0a81-42c8-0661-d3dd7b084889</td>\n",
       "      <td>NaN</td>\n",
       "      <td>NaN</td>\n",
       "      <td>0</td>\n",
       "      <td>0</td>\n",
       "      <td>0</td>\n",
       "      <td>NaN</td>\n",
       "      <td>NaN</td>\n",
       "      <td>NaN</td>\n",
       "      <td>NaN</td>\n",
       "      <td>NaN</td>\n",
       "      <td>NaN</td>\n",
       "      <td>NaN</td>\n",
       "      <td>NaN</td>\n",
       "      <td>NaN</td>\n",
       "    </tr>\n",
       "    <tr>\n",
       "      <th>1</th>\n",
       "      <td>27812634300</td>\n",
       "      <td>900001</td>\n",
       "      <td>MOCO</td>\n",
       "      <td>4</td>\n",
       "      <td>999999</td>\n",
       "      <td>$2a$04$m3vFo49du.gqajd85FBEne6ey0BIWyBE55AoFBF...</td>\n",
       "      <td>$2a$04$Bnykut954sIf2sEmwuDmoO2c0JXnb.r3BeqHd.l...</td>\n",
       "      <td>NaN</td>\n",
       "      <td>IDP</td>\n",
       "      <td>164</td>\n",
       "      <td>GERMANY</td>\n",
       "      <td>105</td>\n",
       "      <td>POLAND</td>\n",
       "      <td>58</td>\n",
       "      <td>26201</td>\n",
       "      <td>NaN</td>\n",
       "      <td>55</td>\n",
       "      <td>26002.0</td>\n",
       "      <td>NaN</td>\n",
       "      <td>NaN</td>\n",
       "      <td>491712XXXXXX</td>\n",
       "      <td>NaN</td>\n",
       "      <td>NaN</td>\n",
       "      <td>4</td>\n",
       "      <td>NaN</td>\n",
       "      <td>MO</td>\n",
       "      <td>OUT</td>\n",
       "      <td>2</td>\n",
       "      <td>48602007070</td>\n",
       "      <td>4917007529</td>\n",
       "      <td>48602007070</td>\n",
       "      <td>15</td>\n",
       "      <td>ROUTING_FAILURE</td>\n",
       "      <td>19</td>\n",
       "      <td>27.06.19 06:59:56.214</td>\n",
       "      <td>27.06.19 07:00:00.100</td>\n",
       "      <td>ROUTING_FAILURE</td>\n",
       "      <td>NaN</td>\n",
       "      <td>NaN</td>\n",
       "      <td>00:00:00</td>\n",
       "      <td>2E864D32A3</td>\n",
       "      <td>NaN</td>\n",
       "      <td>NaN</td>\n",
       "      <td>NaN</td>\n",
       "      <td>NaN</td>\n",
       "      <td>0</td>\n",
       "      <td>0</td>\n",
       "      <td>0</td>\n",
       "      <td>1</td>\n",
       "      <td>1</td>\n",
       "      <td>NONE</td>\n",
       "      <td>NONE</td>\n",
       "      <td>16</td>\n",
       "      <td>1</td>\n",
       "      <td>NaN</td>\n",
       "      <td>NaN</td>\n",
       "      <td>NaN</td>\n",
       "      <td>0</td>\n",
       "      <td>NaN</td>\n",
       "      <td>NaN</td>\n",
       "      <td>NaN</td>\n",
       "      <td>NaN</td>\n",
       "      <td>NaN</td>\n",
       "      <td>1</td>\n",
       "      <td>24.0</td>\n",
       "      <td>27812634300</td>\n",
       "      <td>999999</td>\n",
       "      <td>0</td>\n",
       "      <td>2</td>\n",
       "      <td>0</td>\n",
       "      <td>0</td>\n",
       "      <td>27812634301</td>\n",
       "      <td>0</td>\n",
       "      <td>1</td>\n",
       "      <td>491712XXXXXX</td>\n",
       "      <td>491712XXXXXX</td>\n",
       "      <td>NaN</td>\n",
       "      <td>3</td>\n",
       "      <td>0</td>\n",
       "      <td>97bb8a8b-0a81-42c8-0661-d3ddc116cd0f</td>\n",
       "      <td>NaN</td>\n",
       "      <td>NaN</td>\n",
       "      <td>0</td>\n",
       "      <td>0</td>\n",
       "      <td>0</td>\n",
       "      <td>NaN</td>\n",
       "      <td>NaN</td>\n",
       "      <td>NaN</td>\n",
       "      <td>NaN</td>\n",
       "      <td>NaN</td>\n",
       "      <td>NaN</td>\n",
       "      <td>NaN</td>\n",
       "      <td>NaN</td>\n",
       "      <td>NaN</td>\n",
       "    </tr>\n",
       "    <tr>\n",
       "      <th>2</th>\n",
       "      <td>27812642000</td>\n",
       "      <td>900001</td>\n",
       "      <td>MOCO</td>\n",
       "      <td>4</td>\n",
       "      <td>999999</td>\n",
       "      <td>$2a$04$m3vFo49du.gqajd85FBEney5WXxNPhj/6rWUrI8...</td>\n",
       "      <td>$2a$04$Bnykut954sIf2sEmwuDmoOQ3TQrwdVBoChy/B6b...</td>\n",
       "      <td>NaN</td>\n",
       "      <td>IDP</td>\n",
       "      <td>164</td>\n",
       "      <td>GERMANY</td>\n",
       "      <td>182</td>\n",
       "      <td>GREECE</td>\n",
       "      <td>58</td>\n",
       "      <td>26201</td>\n",
       "      <td>NaN</td>\n",
       "      <td>296</td>\n",
       "      <td>20201.0</td>\n",
       "      <td>NaN</td>\n",
       "      <td>NaN</td>\n",
       "      <td>491700XXXXXX</td>\n",
       "      <td>NaN</td>\n",
       "      <td>NaN</td>\n",
       "      <td>4</td>\n",
       "      <td>NaN</td>\n",
       "      <td>MO</td>\n",
       "      <td>OUT</td>\n",
       "      <td>2</td>\n",
       "      <td>30971400000</td>\n",
       "      <td>4917007531</td>\n",
       "      <td>30971400000</td>\n",
       "      <td>8</td>\n",
       "      <td>NORMAL</td>\n",
       "      <td>0</td>\n",
       "      <td>27.06.19 07:00:00.137</td>\n",
       "      <td>27.06.19 07:00:00.143</td>\n",
       "      <td>NORMAL</td>\n",
       "      <td>NaN</td>\n",
       "      <td>NaN</td>\n",
       "      <td>00:00:00</td>\n",
       "      <td>04D114844072C2</td>\n",
       "      <td>NaN</td>\n",
       "      <td>NaN</td>\n",
       "      <td>NaN</td>\n",
       "      <td>NaN</td>\n",
       "      <td>0</td>\n",
       "      <td>0</td>\n",
       "      <td>0</td>\n",
       "      <td>1</td>\n",
       "      <td>1</td>\n",
       "      <td>NONE</td>\n",
       "      <td>NONE</td>\n",
       "      <td>16</td>\n",
       "      <td>1</td>\n",
       "      <td>NaN</td>\n",
       "      <td>NaN</td>\n",
       "      <td>NaN</td>\n",
       "      <td>0</td>\n",
       "      <td>NaN</td>\n",
       "      <td>NaN</td>\n",
       "      <td>NaN</td>\n",
       "      <td>NaN</td>\n",
       "      <td>NaN</td>\n",
       "      <td>1</td>\n",
       "      <td>24.0</td>\n",
       "      <td>27812642000</td>\n",
       "      <td>999999</td>\n",
       "      <td>0</td>\n",
       "      <td>2</td>\n",
       "      <td>0</td>\n",
       "      <td>0</td>\n",
       "      <td>27812642001</td>\n",
       "      <td>0</td>\n",
       "      <td>1</td>\n",
       "      <td>491700XXXXXX</td>\n",
       "      <td>491700XXXXXX</td>\n",
       "      <td>BL_57</td>\n",
       "      <td>2</td>\n",
       "      <td>1</td>\n",
       "      <td>97bb8a8b-0a81-42c8-0661-d3dd1a61d654</td>\n",
       "      <td>NaN</td>\n",
       "      <td>NaN</td>\n",
       "      <td>0</td>\n",
       "      <td>0</td>\n",
       "      <td>0</td>\n",
       "      <td>NaN</td>\n",
       "      <td>NaN</td>\n",
       "      <td>NaN</td>\n",
       "      <td>NaN</td>\n",
       "      <td>NaN</td>\n",
       "      <td>NaN</td>\n",
       "      <td>NaN</td>\n",
       "      <td>NaN</td>\n",
       "      <td>NaN</td>\n",
       "    </tr>\n",
       "    <tr>\n",
       "      <th>3</th>\n",
       "      <td>27812559300</td>\n",
       "      <td>900001</td>\n",
       "      <td>MOCO</td>\n",
       "      <td>4</td>\n",
       "      <td>999999</td>\n",
       "      <td>$2a$04$m3vFo49du.gqajd85FBEne0.nmboVB9WIIhaDKj...</td>\n",
       "      <td>$2a$04$Bnykut954sIf2sEmwuDmoO/BWbhPRndiJz6NPDr...</td>\n",
       "      <td>NaN</td>\n",
       "      <td>IDP</td>\n",
       "      <td>164</td>\n",
       "      <td>GERMANY</td>\n",
       "      <td>101</td>\n",
       "      <td>CROATIA</td>\n",
       "      <td>58</td>\n",
       "      <td>26201</td>\n",
       "      <td>NaN</td>\n",
       "      <td>324</td>\n",
       "      <td>21901.0</td>\n",
       "      <td>NaN</td>\n",
       "      <td>NaN</td>\n",
       "      <td>4915121XXXXXX</td>\n",
       "      <td>NaN</td>\n",
       "      <td>NaN</td>\n",
       "      <td>4</td>\n",
       "      <td>NaN</td>\n",
       "      <td>MO</td>\n",
       "      <td>OUT</td>\n",
       "      <td>2</td>\n",
       "      <td>385980110</td>\n",
       "      <td>4917007531</td>\n",
       "      <td>385980110</td>\n",
       "      <td>16</td>\n",
       "      <td>NO_ANSWER</td>\n",
       "      <td>0</td>\n",
       "      <td>27.06.19 06:59:17.042</td>\n",
       "      <td>27.06.19 07:00:00.214</td>\n",
       "      <td>NO_ANSWER</td>\n",
       "      <td>NaN</td>\n",
       "      <td>NaN</td>\n",
       "      <td>00:00:00</td>\n",
       "      <td>04D114A300F530</td>\n",
       "      <td>NaN</td>\n",
       "      <td>NaN</td>\n",
       "      <td>NaN</td>\n",
       "      <td>NaN</td>\n",
       "      <td>0</td>\n",
       "      <td>0</td>\n",
       "      <td>0</td>\n",
       "      <td>1</td>\n",
       "      <td>1</td>\n",
       "      <td>NONE</td>\n",
       "      <td>NONE</td>\n",
       "      <td>16</td>\n",
       "      <td>1</td>\n",
       "      <td>NaN</td>\n",
       "      <td>NaN</td>\n",
       "      <td>NaN</td>\n",
       "      <td>0</td>\n",
       "      <td>NaN</td>\n",
       "      <td>NaN</td>\n",
       "      <td>NaN</td>\n",
       "      <td>NaN</td>\n",
       "      <td>NaN</td>\n",
       "      <td>1</td>\n",
       "      <td>24.0</td>\n",
       "      <td>27812559300</td>\n",
       "      <td>999999</td>\n",
       "      <td>0</td>\n",
       "      <td>2</td>\n",
       "      <td>0</td>\n",
       "      <td>0</td>\n",
       "      <td>27812559301</td>\n",
       "      <td>0</td>\n",
       "      <td>1</td>\n",
       "      <td>4915121XXXXXX</td>\n",
       "      <td>4915121XXXXXX</td>\n",
       "      <td>NaN</td>\n",
       "      <td>3</td>\n",
       "      <td>0</td>\n",
       "      <td>97babafc-0a81-42c8-0661-d3dd21175675</td>\n",
       "      <td>NaN</td>\n",
       "      <td>NaN</td>\n",
       "      <td>0</td>\n",
       "      <td>0</td>\n",
       "      <td>0</td>\n",
       "      <td>NaN</td>\n",
       "      <td>NaN</td>\n",
       "      <td>NaN</td>\n",
       "      <td>NaN</td>\n",
       "      <td>NaN</td>\n",
       "      <td>NaN</td>\n",
       "      <td>NaN</td>\n",
       "      <td>NaN</td>\n",
       "      <td>NaN</td>\n",
       "    </tr>\n",
       "    <tr>\n",
       "      <th>4</th>\n",
       "      <td>27812642100</td>\n",
       "      <td>900001</td>\n",
       "      <td>MOCO</td>\n",
       "      <td>4</td>\n",
       "      <td>999999</td>\n",
       "      <td>$2a$04$m3vFo49du.gqajd85FBEne.ZMTQ1xguNZa6XgiA...</td>\n",
       "      <td>$2a$04$Bnykut954sIf2sEmwuDmoOH5/puP4OEVFQsK8mW...</td>\n",
       "      <td>NaN</td>\n",
       "      <td>IDP</td>\n",
       "      <td>105</td>\n",
       "      <td>POLAND</td>\n",
       "      <td>164</td>\n",
       "      <td>GERMANY</td>\n",
       "      <td>55</td>\n",
       "      <td>26002</td>\n",
       "      <td>NaN</td>\n",
       "      <td>58</td>\n",
       "      <td>26201.0</td>\n",
       "      <td>NaN</td>\n",
       "      <td>NaN</td>\n",
       "      <td>48510XXXXXX</td>\n",
       "      <td>NaN</td>\n",
       "      <td>NaN</td>\n",
       "      <td>4</td>\n",
       "      <td>NaN</td>\n",
       "      <td>MO</td>\n",
       "      <td>INB</td>\n",
       "      <td>2</td>\n",
       "      <td>491700970000</td>\n",
       "      <td>491600980760</td>\n",
       "      <td>491700970000</td>\n",
       "      <td>8</td>\n",
       "      <td>NORMAL</td>\n",
       "      <td>0</td>\n",
       "      <td>27.06.19 07:00:00.218</td>\n",
       "      <td>27.06.19 07:00:00.219</td>\n",
       "      <td>NORMAL</td>\n",
       "      <td>NaN</td>\n",
       "      <td>NaN</td>\n",
       "      <td>00:00:00</td>\n",
       "      <td>04D114B3805142</td>\n",
       "      <td>NaN</td>\n",
       "      <td>NaN</td>\n",
       "      <td>NaN</td>\n",
       "      <td>NaN</td>\n",
       "      <td>0</td>\n",
       "      <td>0</td>\n",
       "      <td>0</td>\n",
       "      <td>1</td>\n",
       "      <td>1</td>\n",
       "      <td>NONE</td>\n",
       "      <td>NONE</td>\n",
       "      <td>16</td>\n",
       "      <td>1</td>\n",
       "      <td>NaN</td>\n",
       "      <td>NaN</td>\n",
       "      <td>NaN</td>\n",
       "      <td>0</td>\n",
       "      <td>NaN</td>\n",
       "      <td>NaN</td>\n",
       "      <td>NaN</td>\n",
       "      <td>NaN</td>\n",
       "      <td>NaN</td>\n",
       "      <td>1</td>\n",
       "      <td>24.0</td>\n",
       "      <td>27812642100</td>\n",
       "      <td>999999</td>\n",
       "      <td>0</td>\n",
       "      <td>2</td>\n",
       "      <td>0</td>\n",
       "      <td>0</td>\n",
       "      <td>27812642101</td>\n",
       "      <td>0</td>\n",
       "      <td>1</td>\n",
       "      <td>48510XXXXXX</td>\n",
       "      <td>48510XXXXXX</td>\n",
       "      <td>HMN_49</td>\n",
       "      <td>2</td>\n",
       "      <td>1</td>\n",
       "      <td>97bb8a8b-0a81-42c8-0661-d3ddae7d20dd</td>\n",
       "      <td>NaN</td>\n",
       "      <td>NaN</td>\n",
       "      <td>0</td>\n",
       "      <td>1</td>\n",
       "      <td>0</td>\n",
       "      <td>NaN</td>\n",
       "      <td>NaN</td>\n",
       "      <td>NaN</td>\n",
       "      <td>NaN</td>\n",
       "      <td>NaN</td>\n",
       "      <td>NaN</td>\n",
       "      <td>NaN</td>\n",
       "      <td>NaN</td>\n",
       "      <td>NaN</td>\n",
       "    </tr>\n",
       "  </tbody>\n",
       "</table>\n",
       "</div>"
      ],
      "text/plain": [
       "        CDR_ID  PRODUCT_ID PRODUCT_NAME  SYSTEM_ID  BILLING_TAG  \\\n",
       "0  27811518400      900001         MOCO          4       999999   \n",
       "1  27812634300      900001         MOCO          4       999999   \n",
       "2  27812642000      900001         MOCO          4       999999   \n",
       "3  27812559300      900001         MOCO          4       999999   \n",
       "4  27812642100      900001         MOCO          4       999999   \n",
       "\n",
       "                                                IMSI  \\\n",
       "0                                    262017444077152   \n",
       "1  $2a$04$m3vFo49du.gqajd85FBEne6ey0BIWyBE55AoFBF...   \n",
       "2  $2a$04$m3vFo49du.gqajd85FBEney5WXxNPhj/6rWUrI8...   \n",
       "3  $2a$04$m3vFo49du.gqajd85FBEne0.nmboVB9WIIhaDKj...   \n",
       "4  $2a$04$m3vFo49du.gqajd85FBEne.ZMTQ1xguNZa6XgiA...   \n",
       "\n",
       "                                              MSISDN  IMEI EVENT_NAME  \\\n",
       "0                                       491605839415   NaN        IDP   \n",
       "1  $2a$04$Bnykut954sIf2sEmwuDmoO2c0JXnb.r3BeqHd.l...   NaN        IDP   \n",
       "2  $2a$04$Bnykut954sIf2sEmwuDmoOQ3TQrwdVBoChy/B6b...   NaN        IDP   \n",
       "3  $2a$04$Bnykut954sIf2sEmwuDmoO/BWbhPRndiJz6NPDr...   NaN        IDP   \n",
       "4  $2a$04$Bnykut954sIf2sEmwuDmoOH5/puP4OEVFQsK8mW...   NaN        IDP   \n",
       "\n",
       "   HOME_COUNTRY_ID HOME_COUNTRY_NAME  VISITED_COUNTRY_ID VISITED_COUNTRY_NAME  \\\n",
       "0              164           GERMANY                 175          SWITZERLAND   \n",
       "1              164           GERMANY                 105               POLAND   \n",
       "2              164           GERMANY                 182               GREECE   \n",
       "3              164           GERMANY                 101              CROATIA   \n",
       "4              105            POLAND                 164              GERMANY   \n",
       "\n",
       "   HOME_NETWORK_ID  HOME_NETWORK_NAME  HOME_PLMN_CODE  VISITED_NETWORK_ID  \\\n",
       "0               58              26201             NaN                  39   \n",
       "1               58              26201             NaN                  55   \n",
       "2               58              26201             NaN                 296   \n",
       "3               58              26201             NaN                 324   \n",
       "4               55              26002             NaN                  58   \n",
       "\n",
       "   VISITED_NETWORK_NAME        CLI_IN       CLI_OUT        DN_ORIG  \\\n",
       "0               22803.0  4.916058e+11  4.916058e+11   491733268714   \n",
       "1               26002.0           NaN           NaN   491712XXXXXX   \n",
       "2               20201.0           NaN           NaN   491700XXXXXX   \n",
       "3               21901.0           NaN           NaN  4915121XXXXXX   \n",
       "4               26201.0           NaN           NaN    48510XXXXXX   \n",
       "\n",
       "         DN_IN       DN_OUT  DN_IN_NOA REDIRECTION_NUMBER CALL_TYPE  \\\n",
       "0  4.91733e+11  4.91733e+11          4                NaN        MO   \n",
       "1          NaN          NaN          4                NaN        MO   \n",
       "2          NaN          NaN          4                NaN        MO   \n",
       "3          NaN          NaN          4                NaN        MO   \n",
       "4          NaN          NaN          4                NaN        MO   \n",
       "\n",
       "  ROAMING_TYPE  SERVICE_KEY_IN  CURRENT_MSC_GT  SCCP_CALLED_GT  \\\n",
       "0          OUT               2     41789310205      4917007525   \n",
       "1          OUT               2     48602007070      4917007529   \n",
       "2          OUT               2     30971400000      4917007531   \n",
       "3          OUT               2       385980110      4917007531   \n",
       "4          INB               2    491700970000    491600980760   \n",
       "\n",
       "   SCCP_CALLING_GT  CALL_END_CLEAR_CAUSE_ID CALL_END_CLEAR_CAUSE_NAME  \\\n",
       "0      41789310202                       18                DISCONNECT   \n",
       "1      48602007070                       15           ROUTING_FAILURE   \n",
       "2      30971400000                        8                    NORMAL   \n",
       "3        385980110                       16                 NO_ANSWER   \n",
       "4     491700970000                        8                    NORMAL   \n",
       "\n",
       "   CALL_END_NETWORK_CLEAR_CAUSE       SESSION_START_TS         SESSION_END_TS  \\\n",
       "0                            16  27.06.19 06:50:16.304  27.06.19 07:00:00.104   \n",
       "1                            19  27.06.19 06:59:56.214  27.06.19 07:00:00.100   \n",
       "2                             0  27.06.19 07:00:00.137  27.06.19 07:00:00.143   \n",
       "3                             0  27.06.19 06:59:17.042  27.06.19 07:00:00.214   \n",
       "4                             0  27.06.19 07:00:00.218  27.06.19 07:00:00.219   \n",
       "\n",
       "      SESSION_DESC      SESSION_TS_ANSWER  SESSION_TS_DISCONNECT  \\\n",
       "0       DISCONNECT  27.06.19 06:50:23.825  27.06.19 07:00:00.104   \n",
       "1  ROUTING_FAILURE                    NaN                    NaN   \n",
       "2           NORMAL                    NaN                    NaN   \n",
       "3        NO_ANSWER                    NaN                    NaN   \n",
       "4           NORMAL                    NaN                    NaN   \n",
       "\n",
       "  SESSION_DUR_SEC EXTERNAL_CALL_REF_NUM  ICA_TRANSLATED_NUMBER  \\\n",
       "0        00:09:36        04D11423409274                    NaN   \n",
       "1        00:00:00            2E864D32A3                    NaN   \n",
       "2        00:00:00        04D114844072C2                    NaN   \n",
       "3        00:00:00        04D114A300F530                    NaN   \n",
       "4        00:00:00        04D114B3805142                    NaN   \n",
       "\n",
       "   HSC_TRANSLATED_NUMBER  HSC_EXTERNAL_TRANS_NUMBER  DID_NUMBER  CLI_DELIVERY  \\\n",
       "0                    NaN                        NaN         NaN             0   \n",
       "1                    NaN                        NaN         NaN             0   \n",
       "2                    NaN                        NaN         NaN             0   \n",
       "3                    NaN                        NaN         NaN             0   \n",
       "4                    NaN                        NaN         NaN             0   \n",
       "\n",
       "   HSC_FLAG  HRR_FLAG  RAF_FLAG  ICA_FLAG HSC_REASON HRR_REASON  ICA_REASON  \\\n",
       "0         0         0         1         1       NONE       NONE          16   \n",
       "1         0         0         1         1       NONE       NONE          16   \n",
       "2         0         0         1         1       NONE       NONE          16   \n",
       "3         0         0         1         1       NONE       NONE          16   \n",
       "4         0         0         1         1       NONE       NONE          16   \n",
       "\n",
       "   DISCONNECT_LEG  MATCHING_RULE_NUMBER  ICA_COLLISION_RULE_ID  M_REMOTEGATE  \\\n",
       "0               1                   NaN                    NaN           NaN   \n",
       "1               1                   NaN                    NaN           NaN   \n",
       "2               1                   NaN                    NaN           NaN   \n",
       "3               1                   NaN                    NaN           NaN   \n",
       "4               1                   NaN                    NaN           NaN   \n",
       "\n",
       "   IS_HRR_FOR_REMOTE_FLAG  SMS_TEXT  LANGUAGE_NUM  SMS_CALLBACK_NUM  SMS_TYPE  \\\n",
       "0                       0       NaN           NaN               NaN       NaN   \n",
       "1                       0       NaN           NaN               NaN       NaN   \n",
       "2                       0       NaN           NaN               NaN       NaN   \n",
       "3                       0       NaN           NaN               NaN       NaN   \n",
       "4                       0       NaN           NaN               NaN       NaN   \n",
       "\n",
       "   OWNER_BILLING_TAG  INCOMING_CALL_DIRECTION  OUTGOING_CALL_DIRECTION  \\\n",
       "0                NaN                        1                     24.0   \n",
       "1                NaN                        1                     24.0   \n",
       "2                NaN                        1                     24.0   \n",
       "3                NaN                        1                     24.0   \n",
       "4                NaN                        1                     24.0   \n",
       "\n",
       "   CALL_REFERENCE  SUB_SERVICE_BILLING_TAG  ICA_ACTION  CAMEL_PHASE  \\\n",
       "0     27811518400                   999999           0            2   \n",
       "1     27812634300                   999999           0            2   \n",
       "2     27812642000                   999999           0            2   \n",
       "3     27812559300                   999999           0            2   \n",
       "4     27812642100                   999999           0            2   \n",
       "\n",
       "   ICA_COMM_ID  CAMEL_USER  CALL_REFERENCE_LEG2  SERVICE_TYPE_LEG2  \\\n",
       "0            0           0          27811518401                  0   \n",
       "1            0           0          27812634301                  0   \n",
       "2            0           0          27812642001                  0   \n",
       "3            0           0          27812559301                  0   \n",
       "4            0           0          27812642101                  0   \n",
       "\n",
       "   RAF_NORMALIZE_TYPE RAF_DN_PRE_NORMALIZATION RAF_NORMALIZED_DN  \\\n",
       "0                   1             491733268714      491733268714   \n",
       "1                   1             491712XXXXXX      491712XXXXXX   \n",
       "2                   1             491700XXXXXX      491700XXXXXX   \n",
       "3                   1            4915121XXXXXX     4915121XXXXXX   \n",
       "4                   1              48510XXXXXX       48510XXXXXX   \n",
       "\n",
       "  RAF_ACTIVATED_RULE_ID  RAF_EVENT_REPLY  RAF_STATUS  \\\n",
       "0                   NaN                3           0   \n",
       "1                   NaN                3           0   \n",
       "2                 BL_57                2           1   \n",
       "3                   NaN                3           0   \n",
       "4                HMN_49                2           1   \n",
       "\n",
       "                        CALL_CONTEXT_ID  RAF_BARRING_CASE_ID  \\\n",
       "0  97b2cba5-0a81-42c8-0661-d3dd7b084889                  NaN   \n",
       "1  97bb8a8b-0a81-42c8-0661-d3ddc116cd0f                  NaN   \n",
       "2  97bb8a8b-0a81-42c8-0661-d3dd1a61d654                  NaN   \n",
       "3  97babafc-0a81-42c8-0661-d3dd21175675                  NaN   \n",
       "4  97bb8a8b-0a81-42c8-0661-d3ddae7d20dd                  NaN   \n",
       "\n",
       "  RAF_MONITORED_RULE_ID  RAF_EMAIL_NOTIFICATION_FLAG  \\\n",
       "0                   NaN                            0   \n",
       "1                   NaN                            0   \n",
       "2                   NaN                            0   \n",
       "3                   NaN                            0   \n",
       "4                   NaN                            0   \n",
       "\n",
       "   RAF_CRM_NOTIFICATION_FLAG  RAF_SMS_NOTIFICATION_FLAG  \\\n",
       "0                          0                          0   \n",
       "1                          0                          0   \n",
       "2                          0                          0   \n",
       "3                          0                          0   \n",
       "4                          1                          0   \n",
       "\n",
       "   GDA_EXTERNAL_CALL_REF_NUM  HANDLE_TAP_IND  IS_SMS_SENT  SMS_CLEAR_CAUSE  \\\n",
       "0                        NaN             NaN          NaN              NaN   \n",
       "1                        NaN             NaN          NaN              NaN   \n",
       "2                        NaN             NaN          NaN              NaN   \n",
       "3                        NaN             NaN          NaN              NaN   \n",
       "4                        NaN             NaN          NaN              NaN   \n",
       "\n",
       "   CALL_REFERENCE_LEG3  IMSI_PREFIX_HOME  IMSI_PREFIX_VISITED  AFFILIATE_ID  \\\n",
       "0                  NaN               NaN                  NaN           NaN   \n",
       "1                  NaN               NaN                  NaN           NaN   \n",
       "2                  NaN               NaN                  NaN           NaN   \n",
       "3                  NaN               NaN                  NaN           NaN   \n",
       "4                  NaN               NaN                  NaN           NaN   \n",
       "\n",
       "   RAF_ACTIVATED_RULE_ON_ANSWER  \n",
       "0                           NaN  \n",
       "1                           NaN  \n",
       "2                           NaN  \n",
       "3                           NaN  \n",
       "4                           NaN  "
      ]
     },
     "execution_count": 3,
     "metadata": {},
     "output_type": "execute_result"
    }
   ],
   "source": [
    "df.head()"
   ]
  },
  {
   "cell_type": "code",
   "execution_count": 93,
   "metadata": {},
   "outputs": [],
   "source": [
    "df_block = df[df['RAF_EVENT_REPLY'] == 1 ]"
   ]
  },
  {
   "cell_type": "code",
   "execution_count": 94,
   "metadata": {},
   "outputs": [
    {
     "data": {
      "text/plain": [
       "2    3830\n",
       "1    1370\n",
       "3     162\n",
       "4      18\n",
       "Name: RAF_NORMALIZE_TYPE, dtype: int64"
      ]
     },
     "execution_count": 94,
     "metadata": {},
     "output_type": "execute_result"
    }
   ],
   "source": [
    "df_block['RAF_NORMALIZE_TYPE'].value_counts()"
   ]
  },
  {
   "cell_type": "markdown",
   "metadata": {},
   "source": [
    "## Missing Values"
   ]
  },
  {
   "cell_type": "code",
   "execution_count": 310,
   "metadata": {},
   "outputs": [],
   "source": [
    "null_columns = df.columns[df.isna().all()].tolist()"
   ]
  },
  {
   "cell_type": "code",
   "execution_count": 311,
   "metadata": {},
   "outputs": [],
   "source": [
    "df = df.drop(null_columns,axis=1)"
   ]
  },
  {
   "cell_type": "code",
   "execution_count": 312,
   "metadata": {},
   "outputs": [
    {
     "data": {
      "text/plain": [
       "(291605, 71)"
      ]
     },
     "execution_count": 312,
     "metadata": {},
     "output_type": "execute_result"
    }
   ],
   "source": [
    "df.shape"
   ]
  },
  {
   "cell_type": "code",
   "execution_count": 313,
   "metadata": {},
   "outputs": [
    {
     "name": "stdout",
     "output_type": "stream",
     "text": [
      "['PRODUCT_ID', 'PRODUCT_NAME', 'SYSTEM_ID', 'BILLING_TAG', 'EVENT_NAME', 'SERVICE_KEY_IN', 'CLI_DELIVERY', 'HSC_FLAG', 'HRR_FLAG', 'RAF_FLAG', 'ICA_FLAG', 'HSC_REASON', 'HRR_REASON', 'ICA_REASON', 'DISCONNECT_LEG', 'IS_HRR_FOR_REMOTE_FLAG', 'INCOMING_CALL_DIRECTION', 'OUTGOING_CALL_DIRECTION', 'SUB_SERVICE_BILLING_TAG', 'ICA_ACTION', 'ICA_COMM_ID', 'CAMEL_USER', 'SERVICE_TYPE_LEG2', 'RAF_MONITORED_RULE_ID', 'RAF_EMAIL_NOTIFICATION_FLAG', 'RAF_SMS_NOTIFICATION_FLAG']\n"
     ]
    }
   ],
   "source": [
    "col_not_relevant = []\n",
    "for col in df.columns.values:\n",
    "    if len(df[col].value_counts()) == 1:\n",
    "        col_not_relevant.append(col)\n",
    "print(col_not_relevant)"
   ]
  },
  {
   "cell_type": "markdown",
   "metadata": {},
   "source": [
    "#### We see that other product like ICA and HSC HRR are not relevant here because it's only RAF and RAF_FLAG not relevant too because it's only RAF product , we can see too that DTAG not use any notification ( email or SMS ) "
   ]
  },
  {
   "cell_type": "code",
   "execution_count": 314,
   "metadata": {},
   "outputs": [],
   "source": [
    "df = df.drop(col_not_relevant,axis=1)"
   ]
  },
  {
   "cell_type": "code",
   "execution_count": 315,
   "metadata": {},
   "outputs": [
    {
     "data": {
      "text/plain": [
       "(291605, 45)"
      ]
     },
     "execution_count": 315,
     "metadata": {},
     "output_type": "execute_result"
    }
   ],
   "source": [
    "df.shape"
   ]
  },
  {
   "cell_type": "markdown",
   "metadata": {},
   "source": [
    "*drop all columns containing unique values*"
   ]
  },
  {
   "cell_type": "code",
   "execution_count": 316,
   "metadata": {},
   "outputs": [],
   "source": [
    "df = df.drop([\"CDR_ID\",\"CALL_CONTEXT_ID\",\"RAF_BARRING_CASE_ID\",\"CALL_REFERENCE\",\"CALL_REFERENCE_LEG2\"],axis=1)"
   ]
  },
  {
   "cell_type": "markdown",
   "metadata": {},
   "source": [
    "*drop all columns containing huge number of null*"
   ]
  },
  {
   "cell_type": "code",
   "execution_count": 317,
   "metadata": {},
   "outputs": [],
   "source": [
    "df = df.drop(\"REDIRECTION_NUMBER\",axis=1)"
   ]
  },
  {
   "cell_type": "markdown",
   "metadata": {},
   "source": [
    "*drop all duplicate columns (e.g in each row same value in the two columns )*"
   ]
  },
  {
   "cell_type": "code",
   "execution_count": 318,
   "metadata": {},
   "outputs": [],
   "source": [
    "df = df.drop(\"SCCP_CALLING_GT\",axis=1)"
   ]
  },
  {
   "cell_type": "markdown",
   "metadata": {},
   "source": [
    "*columns MSISDN and DN_ORIG are for the hug majority the same has CLI_IN/OUT and DN_IN/OUT*"
   ]
  },
  {
   "cell_type": "code",
   "execution_count": 319,
   "metadata": {},
   "outputs": [],
   "source": [
    "df = df.drop([\"CLI_IN\",\"CLI_OUT\",\"DN_IN\",\"DN_OUT\"],axis=1)"
   ]
  },
  {
   "cell_type": "code",
   "execution_count": 320,
   "metadata": {},
   "outputs": [
    {
     "data": {
      "text/plain": [
       "(291605, 34)"
      ]
     },
     "execution_count": 320,
     "metadata": {},
     "output_type": "execute_result"
    }
   ],
   "source": [
    "df.shape"
   ]
  },
  {
   "cell_type": "markdown",
   "metadata": {},
   "source": [
    "*later we will remove all the columns \"%NAME%\" to but for the EDA part it's more clear with*"
   ]
  },
  {
   "cell_type": "markdown",
   "metadata": {},
   "source": [
    "# Exploratory Data Analysis"
   ]
  },
  {
   "cell_type": "code",
   "execution_count": 321,
   "metadata": {},
   "outputs": [
    {
     "data": {
      "text/html": [
       "<div>\n",
       "<style scoped>\n",
       "    .dataframe tbody tr th:only-of-type {\n",
       "        vertical-align: middle;\n",
       "    }\n",
       "\n",
       "    .dataframe tbody tr th {\n",
       "        vertical-align: top;\n",
       "    }\n",
       "\n",
       "    .dataframe thead th {\n",
       "        text-align: right;\n",
       "    }\n",
       "</style>\n",
       "<table border=\"1\" class=\"dataframe\">\n",
       "  <thead>\n",
       "    <tr style=\"text-align: right;\">\n",
       "      <th></th>\n",
       "      <th>IMSI</th>\n",
       "      <th>MSISDN</th>\n",
       "      <th>HOME_COUNTRY_ID</th>\n",
       "      <th>HOME_COUNTRY_NAME</th>\n",
       "      <th>VISITED_COUNTRY_ID</th>\n",
       "      <th>VISITED_COUNTRY_NAME</th>\n",
       "      <th>HOME_NETWORK_ID</th>\n",
       "      <th>HOME_NETWORK_NAME</th>\n",
       "      <th>VISITED_NETWORK_ID</th>\n",
       "      <th>VISITED_NETWORK_NAME</th>\n",
       "      <th>DN_ORIG</th>\n",
       "      <th>DN_IN_NOA</th>\n",
       "      <th>CALL_TYPE</th>\n",
       "      <th>ROAMING_TYPE</th>\n",
       "      <th>CURRENT_MSC_GT</th>\n",
       "      <th>SCCP_CALLED_GT</th>\n",
       "      <th>CALL_END_CLEAR_CAUSE_ID</th>\n",
       "      <th>CALL_END_CLEAR_CAUSE_NAME</th>\n",
       "      <th>CALL_END_NETWORK_CLEAR_CAUSE</th>\n",
       "      <th>SESSION_START_TS</th>\n",
       "      <th>SESSION_END_TS</th>\n",
       "      <th>SESSION_DESC</th>\n",
       "      <th>SESSION_TS_ANSWER</th>\n",
       "      <th>SESSION_TS_DISCONNECT</th>\n",
       "      <th>SESSION_DUR_SEC</th>\n",
       "      <th>EXTERNAL_CALL_REF_NUM</th>\n",
       "      <th>CAMEL_PHASE</th>\n",
       "      <th>RAF_NORMALIZE_TYPE</th>\n",
       "      <th>RAF_DN_PRE_NORMALIZATION</th>\n",
       "      <th>RAF_NORMALIZED_DN</th>\n",
       "      <th>RAF_ACTIVATED_RULE_ID</th>\n",
       "      <th>RAF_EVENT_REPLY</th>\n",
       "      <th>RAF_STATUS</th>\n",
       "      <th>RAF_CRM_NOTIFICATION_FLAG</th>\n",
       "    </tr>\n",
       "  </thead>\n",
       "  <tbody>\n",
       "    <tr>\n",
       "      <th>0</th>\n",
       "      <td>262017444077152</td>\n",
       "      <td>491605839415</td>\n",
       "      <td>164</td>\n",
       "      <td>GERMANY</td>\n",
       "      <td>175</td>\n",
       "      <td>SWITZERLAND</td>\n",
       "      <td>58</td>\n",
       "      <td>26201</td>\n",
       "      <td>39</td>\n",
       "      <td>22803.0</td>\n",
       "      <td>491733268714</td>\n",
       "      <td>4</td>\n",
       "      <td>MO</td>\n",
       "      <td>OUT</td>\n",
       "      <td>41789310205</td>\n",
       "      <td>4917007525</td>\n",
       "      <td>18</td>\n",
       "      <td>DISCONNECT</td>\n",
       "      <td>16</td>\n",
       "      <td>27.06.19 06:50:16.304</td>\n",
       "      <td>27.06.19 07:00:00.104</td>\n",
       "      <td>DISCONNECT</td>\n",
       "      <td>27.06.19 06:50:23.825</td>\n",
       "      <td>27.06.19 07:00:00.104</td>\n",
       "      <td>00:09:36</td>\n",
       "      <td>04D11423409274</td>\n",
       "      <td>2</td>\n",
       "      <td>1</td>\n",
       "      <td>491733268714</td>\n",
       "      <td>491733268714</td>\n",
       "      <td>NaN</td>\n",
       "      <td>3</td>\n",
       "      <td>0</td>\n",
       "      <td>0</td>\n",
       "    </tr>\n",
       "    <tr>\n",
       "      <th>1</th>\n",
       "      <td>$2a$04$m3vFo49du.gqajd85FBEne6ey0BIWyBE55AoFBF...</td>\n",
       "      <td>$2a$04$Bnykut954sIf2sEmwuDmoO2c0JXnb.r3BeqHd.l...</td>\n",
       "      <td>164</td>\n",
       "      <td>GERMANY</td>\n",
       "      <td>105</td>\n",
       "      <td>POLAND</td>\n",
       "      <td>58</td>\n",
       "      <td>26201</td>\n",
       "      <td>55</td>\n",
       "      <td>26002.0</td>\n",
       "      <td>491712XXXXXX</td>\n",
       "      <td>4</td>\n",
       "      <td>MO</td>\n",
       "      <td>OUT</td>\n",
       "      <td>48602007070</td>\n",
       "      <td>4917007529</td>\n",
       "      <td>15</td>\n",
       "      <td>ROUTING_FAILURE</td>\n",
       "      <td>19</td>\n",
       "      <td>27.06.19 06:59:56.214</td>\n",
       "      <td>27.06.19 07:00:00.100</td>\n",
       "      <td>ROUTING_FAILURE</td>\n",
       "      <td>NaN</td>\n",
       "      <td>NaN</td>\n",
       "      <td>00:00:00</td>\n",
       "      <td>2E864D32A3</td>\n",
       "      <td>2</td>\n",
       "      <td>1</td>\n",
       "      <td>491712XXXXXX</td>\n",
       "      <td>491712XXXXXX</td>\n",
       "      <td>NaN</td>\n",
       "      <td>3</td>\n",
       "      <td>0</td>\n",
       "      <td>0</td>\n",
       "    </tr>\n",
       "    <tr>\n",
       "      <th>2</th>\n",
       "      <td>$2a$04$m3vFo49du.gqajd85FBEney5WXxNPhj/6rWUrI8...</td>\n",
       "      <td>$2a$04$Bnykut954sIf2sEmwuDmoOQ3TQrwdVBoChy/B6b...</td>\n",
       "      <td>164</td>\n",
       "      <td>GERMANY</td>\n",
       "      <td>182</td>\n",
       "      <td>GREECE</td>\n",
       "      <td>58</td>\n",
       "      <td>26201</td>\n",
       "      <td>296</td>\n",
       "      <td>20201.0</td>\n",
       "      <td>491700XXXXXX</td>\n",
       "      <td>4</td>\n",
       "      <td>MO</td>\n",
       "      <td>OUT</td>\n",
       "      <td>30971400000</td>\n",
       "      <td>4917007531</td>\n",
       "      <td>8</td>\n",
       "      <td>NORMAL</td>\n",
       "      <td>0</td>\n",
       "      <td>27.06.19 07:00:00.137</td>\n",
       "      <td>27.06.19 07:00:00.143</td>\n",
       "      <td>NORMAL</td>\n",
       "      <td>NaN</td>\n",
       "      <td>NaN</td>\n",
       "      <td>00:00:00</td>\n",
       "      <td>04D114844072C2</td>\n",
       "      <td>2</td>\n",
       "      <td>1</td>\n",
       "      <td>491700XXXXXX</td>\n",
       "      <td>491700XXXXXX</td>\n",
       "      <td>BL_57</td>\n",
       "      <td>2</td>\n",
       "      <td>1</td>\n",
       "      <td>0</td>\n",
       "    </tr>\n",
       "    <tr>\n",
       "      <th>3</th>\n",
       "      <td>$2a$04$m3vFo49du.gqajd85FBEne0.nmboVB9WIIhaDKj...</td>\n",
       "      <td>$2a$04$Bnykut954sIf2sEmwuDmoO/BWbhPRndiJz6NPDr...</td>\n",
       "      <td>164</td>\n",
       "      <td>GERMANY</td>\n",
       "      <td>101</td>\n",
       "      <td>CROATIA</td>\n",
       "      <td>58</td>\n",
       "      <td>26201</td>\n",
       "      <td>324</td>\n",
       "      <td>21901.0</td>\n",
       "      <td>4915121XXXXXX</td>\n",
       "      <td>4</td>\n",
       "      <td>MO</td>\n",
       "      <td>OUT</td>\n",
       "      <td>385980110</td>\n",
       "      <td>4917007531</td>\n",
       "      <td>16</td>\n",
       "      <td>NO_ANSWER</td>\n",
       "      <td>0</td>\n",
       "      <td>27.06.19 06:59:17.042</td>\n",
       "      <td>27.06.19 07:00:00.214</td>\n",
       "      <td>NO_ANSWER</td>\n",
       "      <td>NaN</td>\n",
       "      <td>NaN</td>\n",
       "      <td>00:00:00</td>\n",
       "      <td>04D114A300F530</td>\n",
       "      <td>2</td>\n",
       "      <td>1</td>\n",
       "      <td>4915121XXXXXX</td>\n",
       "      <td>4915121XXXXXX</td>\n",
       "      <td>NaN</td>\n",
       "      <td>3</td>\n",
       "      <td>0</td>\n",
       "      <td>0</td>\n",
       "    </tr>\n",
       "    <tr>\n",
       "      <th>4</th>\n",
       "      <td>$2a$04$m3vFo49du.gqajd85FBEne.ZMTQ1xguNZa6XgiA...</td>\n",
       "      <td>$2a$04$Bnykut954sIf2sEmwuDmoOH5/puP4OEVFQsK8mW...</td>\n",
       "      <td>105</td>\n",
       "      <td>POLAND</td>\n",
       "      <td>164</td>\n",
       "      <td>GERMANY</td>\n",
       "      <td>55</td>\n",
       "      <td>26002</td>\n",
       "      <td>58</td>\n",
       "      <td>26201.0</td>\n",
       "      <td>48510XXXXXX</td>\n",
       "      <td>4</td>\n",
       "      <td>MO</td>\n",
       "      <td>INB</td>\n",
       "      <td>491700970000</td>\n",
       "      <td>491600980760</td>\n",
       "      <td>8</td>\n",
       "      <td>NORMAL</td>\n",
       "      <td>0</td>\n",
       "      <td>27.06.19 07:00:00.218</td>\n",
       "      <td>27.06.19 07:00:00.219</td>\n",
       "      <td>NORMAL</td>\n",
       "      <td>NaN</td>\n",
       "      <td>NaN</td>\n",
       "      <td>00:00:00</td>\n",
       "      <td>04D114B3805142</td>\n",
       "      <td>2</td>\n",
       "      <td>1</td>\n",
       "      <td>48510XXXXXX</td>\n",
       "      <td>48510XXXXXX</td>\n",
       "      <td>HMN_49</td>\n",
       "      <td>2</td>\n",
       "      <td>1</td>\n",
       "      <td>1</td>\n",
       "    </tr>\n",
       "  </tbody>\n",
       "</table>\n",
       "</div>"
      ],
      "text/plain": [
       "                                                IMSI  \\\n",
       "0                                    262017444077152   \n",
       "1  $2a$04$m3vFo49du.gqajd85FBEne6ey0BIWyBE55AoFBF...   \n",
       "2  $2a$04$m3vFo49du.gqajd85FBEney5WXxNPhj/6rWUrI8...   \n",
       "3  $2a$04$m3vFo49du.gqajd85FBEne0.nmboVB9WIIhaDKj...   \n",
       "4  $2a$04$m3vFo49du.gqajd85FBEne.ZMTQ1xguNZa6XgiA...   \n",
       "\n",
       "                                              MSISDN  HOME_COUNTRY_ID  \\\n",
       "0                                       491605839415              164   \n",
       "1  $2a$04$Bnykut954sIf2sEmwuDmoO2c0JXnb.r3BeqHd.l...              164   \n",
       "2  $2a$04$Bnykut954sIf2sEmwuDmoOQ3TQrwdVBoChy/B6b...              164   \n",
       "3  $2a$04$Bnykut954sIf2sEmwuDmoO/BWbhPRndiJz6NPDr...              164   \n",
       "4  $2a$04$Bnykut954sIf2sEmwuDmoOH5/puP4OEVFQsK8mW...              105   \n",
       "\n",
       "  HOME_COUNTRY_NAME  VISITED_COUNTRY_ID VISITED_COUNTRY_NAME  HOME_NETWORK_ID  \\\n",
       "0           GERMANY                 175          SWITZERLAND               58   \n",
       "1           GERMANY                 105               POLAND               58   \n",
       "2           GERMANY                 182               GREECE               58   \n",
       "3           GERMANY                 101              CROATIA               58   \n",
       "4            POLAND                 164              GERMANY               55   \n",
       "\n",
       "   HOME_NETWORK_NAME  VISITED_NETWORK_ID  VISITED_NETWORK_NAME        DN_ORIG  \\\n",
       "0              26201                  39               22803.0   491733268714   \n",
       "1              26201                  55               26002.0   491712XXXXXX   \n",
       "2              26201                 296               20201.0   491700XXXXXX   \n",
       "3              26201                 324               21901.0  4915121XXXXXX   \n",
       "4              26002                  58               26201.0    48510XXXXXX   \n",
       "\n",
       "   DN_IN_NOA CALL_TYPE ROAMING_TYPE  CURRENT_MSC_GT  SCCP_CALLED_GT  \\\n",
       "0          4        MO          OUT     41789310205      4917007525   \n",
       "1          4        MO          OUT     48602007070      4917007529   \n",
       "2          4        MO          OUT     30971400000      4917007531   \n",
       "3          4        MO          OUT       385980110      4917007531   \n",
       "4          4        MO          INB    491700970000    491600980760   \n",
       "\n",
       "   CALL_END_CLEAR_CAUSE_ID CALL_END_CLEAR_CAUSE_NAME  \\\n",
       "0                       18                DISCONNECT   \n",
       "1                       15           ROUTING_FAILURE   \n",
       "2                        8                    NORMAL   \n",
       "3                       16                 NO_ANSWER   \n",
       "4                        8                    NORMAL   \n",
       "\n",
       "   CALL_END_NETWORK_CLEAR_CAUSE       SESSION_START_TS         SESSION_END_TS  \\\n",
       "0                            16  27.06.19 06:50:16.304  27.06.19 07:00:00.104   \n",
       "1                            19  27.06.19 06:59:56.214  27.06.19 07:00:00.100   \n",
       "2                             0  27.06.19 07:00:00.137  27.06.19 07:00:00.143   \n",
       "3                             0  27.06.19 06:59:17.042  27.06.19 07:00:00.214   \n",
       "4                             0  27.06.19 07:00:00.218  27.06.19 07:00:00.219   \n",
       "\n",
       "      SESSION_DESC      SESSION_TS_ANSWER  SESSION_TS_DISCONNECT  \\\n",
       "0       DISCONNECT  27.06.19 06:50:23.825  27.06.19 07:00:00.104   \n",
       "1  ROUTING_FAILURE                    NaN                    NaN   \n",
       "2           NORMAL                    NaN                    NaN   \n",
       "3        NO_ANSWER                    NaN                    NaN   \n",
       "4           NORMAL                    NaN                    NaN   \n",
       "\n",
       "  SESSION_DUR_SEC EXTERNAL_CALL_REF_NUM  CAMEL_PHASE  RAF_NORMALIZE_TYPE  \\\n",
       "0        00:09:36        04D11423409274            2                   1   \n",
       "1        00:00:00            2E864D32A3            2                   1   \n",
       "2        00:00:00        04D114844072C2            2                   1   \n",
       "3        00:00:00        04D114A300F530            2                   1   \n",
       "4        00:00:00        04D114B3805142            2                   1   \n",
       "\n",
       "  RAF_DN_PRE_NORMALIZATION RAF_NORMALIZED_DN RAF_ACTIVATED_RULE_ID  \\\n",
       "0             491733268714      491733268714                   NaN   \n",
       "1             491712XXXXXX      491712XXXXXX                   NaN   \n",
       "2             491700XXXXXX      491700XXXXXX                 BL_57   \n",
       "3            4915121XXXXXX     4915121XXXXXX                   NaN   \n",
       "4              48510XXXXXX       48510XXXXXX                HMN_49   \n",
       "\n",
       "   RAF_EVENT_REPLY  RAF_STATUS  RAF_CRM_NOTIFICATION_FLAG  \n",
       "0                3           0                          0  \n",
       "1                3           0                          0  \n",
       "2                2           1                          0  \n",
       "3                3           0                          0  \n",
       "4                2           1                          1  "
      ]
     },
     "execution_count": 321,
     "metadata": {},
     "output_type": "execute_result"
    }
   ],
   "source": [
    "df.head()"
   ]
  },
  {
   "cell_type": "code",
   "execution_count": 322,
   "metadata": {},
   "outputs": [
    {
     "data": {
      "text/plain": [
       "1    168744\n",
       "3      5380\n",
       "0       262\n",
       "Name: RAF_STATUS, dtype: int64"
      ]
     },
     "execution_count": 322,
     "metadata": {},
     "output_type": "execute_result"
    }
   ],
   "source": [
    "df[df['RAF_ACTIVATED_RULE_ID'].notnull()]['RAF_STATUS'].value_counts()"
   ]
  },
  {
   "cell_type": "code",
   "execution_count": 323,
   "metadata": {},
   "outputs": [
    {
     "data": {
      "image/png": "[encoded data removed]",
      "text/plain": [
       "<matplotlib.figure.Figure at 0xae639cf8>"
      ]
     },
     "metadata": {},
     "output_type": "display_data"
    }
   ],
   "source": [
    "df['ROAMING_TYPE'].value_counts().plot(kind=\"pie\",autopct='%1.0f%%',colors=['lightgreen', 'lightskyblue'],explode=(0.1, 0),figsize=(4,4),labels=['outbound','inbound']);"
   ]
  },
  {
   "cell_type": "code",
   "execution_count": 324,
   "metadata": {},
   "outputs": [
    {
     "data": {
      "image/png": "[encoded data removed]",
      "text/plain": [
       "<matplotlib.figure.Figure at 0xa64b9f98>"
      ]
     },
     "metadata": {},
     "output_type": "display_data"
    }
   ],
   "source": [
    "df[\"CAMEL_PHASE\"].value_counts().plot(kind=\"pie\",autopct='%1.0f%%',colors=['lightgreen', 'lightskyblue'],explode=(0.2, 0),figsize=(4,4));"
   ]
  },
  {
   "cell_type": "code",
   "execution_count": 325,
   "metadata": {},
   "outputs": [
    {
     "data": {
      "text/plain": [
       "MO    291440\n",
       "MF       165\n",
       "Name: CALL_TYPE, dtype: int64"
      ]
     },
     "execution_count": 325,
     "metadata": {},
     "output_type": "execute_result"
    }
   ],
   "source": [
    "df['CALL_TYPE'].value_counts()"
   ]
  },
  {
   "cell_type": "markdown",
   "metadata": {},
   "source": [
    "### RAF SDR explanation"
   ]
  },
  {
   "cell_type": "code",
   "execution_count": 326,
   "metadata": {},
   "outputs": [
    {
     "data": {
      "image/png": "[encoded data removed]",
      "text/plain": [
       "<matplotlib.figure.Figure at 0xa63f02b0>"
      ]
     },
     "metadata": {},
     "output_type": "display_data"
    }
   ],
   "source": [
    "df[\"RAF_STATUS\"].value_counts().plot(kind=\"pie\",autopct='%1.0f%%',colors=['lightgreen', 'lightskyblue','red'],explode=(0.1, 0,0),figsize=(4,4));"
   ]
  },
  {
   "cell_type": "markdown",
   "metadata": {},
   "source": [
    "* RAF_RELEASE   --> RAF_EVENT_REPLY = 1 \n",
    "* RAF_CONTINUE/CONNECT   --> RAF_EVENT_REPLY = 2 \n",
    "* RAF_CALL_SKIPPED_BY_WL_FILTER --> RAF_STATUS = 1\n",
    "* CALL BAR BY RAF --> RAF_STATUS = 3"
   ]
  },
  {
   "cell_type": "code",
   "execution_count": 327,
   "metadata": {},
   "outputs": [
    {
     "data": {
      "text/html": [
       "<div>\n",
       "<style scoped>\n",
       "    .dataframe tbody tr th:only-of-type {\n",
       "        vertical-align: middle;\n",
       "    }\n",
       "\n",
       "    .dataframe tbody tr th {\n",
       "        vertical-align: top;\n",
       "    }\n",
       "\n",
       "    .dataframe thead th {\n",
       "        text-align: right;\n",
       "    }\n",
       "</style>\n",
       "<table border=\"1\" class=\"dataframe\">\n",
       "  <thead>\n",
       "    <tr style=\"text-align: right;\">\n",
       "      <th></th>\n",
       "      <th>IMSI</th>\n",
       "      <th>MSISDN</th>\n",
       "      <th>HOME_COUNTRY_ID</th>\n",
       "      <th>HOME_COUNTRY_NAME</th>\n",
       "      <th>VISITED_COUNTRY_ID</th>\n",
       "      <th>VISITED_COUNTRY_NAME</th>\n",
       "      <th>HOME_NETWORK_ID</th>\n",
       "      <th>HOME_NETWORK_NAME</th>\n",
       "      <th>VISITED_NETWORK_ID</th>\n",
       "      <th>VISITED_NETWORK_NAME</th>\n",
       "      <th>DN_ORIG</th>\n",
       "      <th>DN_IN_NOA</th>\n",
       "      <th>CALL_TYPE</th>\n",
       "      <th>ROAMING_TYPE</th>\n",
       "      <th>CURRENT_MSC_GT</th>\n",
       "      <th>SCCP_CALLED_GT</th>\n",
       "      <th>CALL_END_CLEAR_CAUSE_ID</th>\n",
       "      <th>CALL_END_CLEAR_CAUSE_NAME</th>\n",
       "      <th>CALL_END_NETWORK_CLEAR_CAUSE</th>\n",
       "      <th>SESSION_START_TS</th>\n",
       "      <th>SESSION_END_TS</th>\n",
       "      <th>SESSION_DESC</th>\n",
       "      <th>SESSION_TS_ANSWER</th>\n",
       "      <th>SESSION_TS_DISCONNECT</th>\n",
       "      <th>SESSION_DUR_SEC</th>\n",
       "      <th>EXTERNAL_CALL_REF_NUM</th>\n",
       "      <th>CAMEL_PHASE</th>\n",
       "      <th>RAF_NORMALIZE_TYPE</th>\n",
       "      <th>RAF_DN_PRE_NORMALIZATION</th>\n",
       "      <th>RAF_NORMALIZED_DN</th>\n",
       "      <th>RAF_ACTIVATED_RULE_ID</th>\n",
       "      <th>RAF_EVENT_REPLY</th>\n",
       "      <th>RAF_STATUS</th>\n",
       "      <th>RAF_CRM_NOTIFICATION_FLAG</th>\n",
       "    </tr>\n",
       "  </thead>\n",
       "  <tbody>\n",
       "    <tr>\n",
       "      <th>0</th>\n",
       "      <td>262017444077152</td>\n",
       "      <td>491605839415</td>\n",
       "      <td>164</td>\n",
       "      <td>GERMANY</td>\n",
       "      <td>175</td>\n",
       "      <td>SWITZERLAND</td>\n",
       "      <td>58</td>\n",
       "      <td>26201</td>\n",
       "      <td>39</td>\n",
       "      <td>22803.0</td>\n",
       "      <td>491733268714</td>\n",
       "      <td>4</td>\n",
       "      <td>MO</td>\n",
       "      <td>OUT</td>\n",
       "      <td>41789310205</td>\n",
       "      <td>4917007525</td>\n",
       "      <td>18</td>\n",
       "      <td>DISCONNECT</td>\n",
       "      <td>16</td>\n",
       "      <td>27.06.19 06:50:16.304</td>\n",
       "      <td>27.06.19 07:00:00.104</td>\n",
       "      <td>DISCONNECT</td>\n",
       "      <td>27.06.19 06:50:23.825</td>\n",
       "      <td>27.06.19 07:00:00.104</td>\n",
       "      <td>00:09:36</td>\n",
       "      <td>04D11423409274</td>\n",
       "      <td>2</td>\n",
       "      <td>1</td>\n",
       "      <td>491733268714</td>\n",
       "      <td>491733268714</td>\n",
       "      <td>NaN</td>\n",
       "      <td>3</td>\n",
       "      <td>0</td>\n",
       "      <td>0</td>\n",
       "    </tr>\n",
       "    <tr>\n",
       "      <th>1</th>\n",
       "      <td>$2a$04$m3vFo49du.gqajd85FBEne6ey0BIWyBE55AoFBF...</td>\n",
       "      <td>$2a$04$Bnykut954sIf2sEmwuDmoO2c0JXnb.r3BeqHd.l...</td>\n",
       "      <td>164</td>\n",
       "      <td>GERMANY</td>\n",
       "      <td>105</td>\n",
       "      <td>POLAND</td>\n",
       "      <td>58</td>\n",
       "      <td>26201</td>\n",
       "      <td>55</td>\n",
       "      <td>26002.0</td>\n",
       "      <td>491712XXXXXX</td>\n",
       "      <td>4</td>\n",
       "      <td>MO</td>\n",
       "      <td>OUT</td>\n",
       "      <td>48602007070</td>\n",
       "      <td>4917007529</td>\n",
       "      <td>15</td>\n",
       "      <td>ROUTING_FAILURE</td>\n",
       "      <td>19</td>\n",
       "      <td>27.06.19 06:59:56.214</td>\n",
       "      <td>27.06.19 07:00:00.100</td>\n",
       "      <td>ROUTING_FAILURE</td>\n",
       "      <td>NaN</td>\n",
       "      <td>NaN</td>\n",
       "      <td>00:00:00</td>\n",
       "      <td>2E864D32A3</td>\n",
       "      <td>2</td>\n",
       "      <td>1</td>\n",
       "      <td>491712XXXXXX</td>\n",
       "      <td>491712XXXXXX</td>\n",
       "      <td>NaN</td>\n",
       "      <td>3</td>\n",
       "      <td>0</td>\n",
       "      <td>0</td>\n",
       "    </tr>\n",
       "    <tr>\n",
       "      <th>2</th>\n",
       "      <td>$2a$04$m3vFo49du.gqajd85FBEney5WXxNPhj/6rWUrI8...</td>\n",
       "      <td>$2a$04$Bnykut954sIf2sEmwuDmoOQ3TQrwdVBoChy/B6b...</td>\n",
       "      <td>164</td>\n",
       "      <td>GERMANY</td>\n",
       "      <td>182</td>\n",
       "      <td>GREECE</td>\n",
       "      <td>58</td>\n",
       "      <td>26201</td>\n",
       "      <td>296</td>\n",
       "      <td>20201.0</td>\n",
       "      <td>491700XXXXXX</td>\n",
       "      <td>4</td>\n",
       "      <td>MO</td>\n",
       "      <td>OUT</td>\n",
       "      <td>30971400000</td>\n",
       "      <td>4917007531</td>\n",
       "      <td>8</td>\n",
       "      <td>NORMAL</td>\n",
       "      <td>0</td>\n",
       "      <td>27.06.19 07:00:00.137</td>\n",
       "      <td>27.06.19 07:00:00.143</td>\n",
       "      <td>NORMAL</td>\n",
       "      <td>NaN</td>\n",
       "      <td>NaN</td>\n",
       "      <td>00:00:00</td>\n",
       "      <td>04D114844072C2</td>\n",
       "      <td>2</td>\n",
       "      <td>1</td>\n",
       "      <td>491700XXXXXX</td>\n",
       "      <td>491700XXXXXX</td>\n",
       "      <td>BL_57</td>\n",
       "      <td>2</td>\n",
       "      <td>1</td>\n",
       "      <td>0</td>\n",
       "    </tr>\n",
       "    <tr>\n",
       "      <th>3</th>\n",
       "      <td>$2a$04$m3vFo49du.gqajd85FBEne0.nmboVB9WIIhaDKj...</td>\n",
       "      <td>$2a$04$Bnykut954sIf2sEmwuDmoO/BWbhPRndiJz6NPDr...</td>\n",
       "      <td>164</td>\n",
       "      <td>GERMANY</td>\n",
       "      <td>101</td>\n",
       "      <td>CROATIA</td>\n",
       "      <td>58</td>\n",
       "      <td>26201</td>\n",
       "      <td>324</td>\n",
       "      <td>21901.0</td>\n",
       "      <td>4915121XXXXXX</td>\n",
       "      <td>4</td>\n",
       "      <td>MO</td>\n",
       "      <td>OUT</td>\n",
       "      <td>385980110</td>\n",
       "      <td>4917007531</td>\n",
       "      <td>16</td>\n",
       "      <td>NO_ANSWER</td>\n",
       "      <td>0</td>\n",
       "      <td>27.06.19 06:59:17.042</td>\n",
       "      <td>27.06.19 07:00:00.214</td>\n",
       "      <td>NO_ANSWER</td>\n",
       "      <td>NaN</td>\n",
       "      <td>NaN</td>\n",
       "      <td>00:00:00</td>\n",
       "      <td>04D114A300F530</td>\n",
       "      <td>2</td>\n",
       "      <td>1</td>\n",
       "      <td>4915121XXXXXX</td>\n",
       "      <td>4915121XXXXXX</td>\n",
       "      <td>NaN</td>\n",
       "      <td>3</td>\n",
       "      <td>0</td>\n",
       "      <td>0</td>\n",
       "    </tr>\n",
       "    <tr>\n",
       "      <th>4</th>\n",
       "      <td>$2a$04$m3vFo49du.gqajd85FBEne.ZMTQ1xguNZa6XgiA...</td>\n",
       "      <td>$2a$04$Bnykut954sIf2sEmwuDmoOH5/puP4OEVFQsK8mW...</td>\n",
       "      <td>105</td>\n",
       "      <td>POLAND</td>\n",
       "      <td>164</td>\n",
       "      <td>GERMANY</td>\n",
       "      <td>55</td>\n",
       "      <td>26002</td>\n",
       "      <td>58</td>\n",
       "      <td>26201.0</td>\n",
       "      <td>48510XXXXXX</td>\n",
       "      <td>4</td>\n",
       "      <td>MO</td>\n",
       "      <td>INB</td>\n",
       "      <td>491700970000</td>\n",
       "      <td>491600980760</td>\n",
       "      <td>8</td>\n",
       "      <td>NORMAL</td>\n",
       "      <td>0</td>\n",
       "      <td>27.06.19 07:00:00.218</td>\n",
       "      <td>27.06.19 07:00:00.219</td>\n",
       "      <td>NORMAL</td>\n",
       "      <td>NaN</td>\n",
       "      <td>NaN</td>\n",
       "      <td>00:00:00</td>\n",
       "      <td>04D114B3805142</td>\n",
       "      <td>2</td>\n",
       "      <td>1</td>\n",
       "      <td>48510XXXXXX</td>\n",
       "      <td>48510XXXXXX</td>\n",
       "      <td>HMN_49</td>\n",
       "      <td>2</td>\n",
       "      <td>1</td>\n",
       "      <td>1</td>\n",
       "    </tr>\n",
       "  </tbody>\n",
       "</table>\n",
       "</div>"
      ],
      "text/plain": [
       "                                                IMSI  \\\n",
       "0                                    262017444077152   \n",
       "1  $2a$04$m3vFo49du.gqajd85FBEne6ey0BIWyBE55AoFBF...   \n",
       "2  $2a$04$m3vFo49du.gqajd85FBEney5WXxNPhj/6rWUrI8...   \n",
       "3  $2a$04$m3vFo49du.gqajd85FBEne0.nmboVB9WIIhaDKj...   \n",
       "4  $2a$04$m3vFo49du.gqajd85FBEne.ZMTQ1xguNZa6XgiA...   \n",
       "\n",
       "                                              MSISDN  HOME_COUNTRY_ID  \\\n",
       "0                                       491605839415              164   \n",
       "1  $2a$04$Bnykut954sIf2sEmwuDmoO2c0JXnb.r3BeqHd.l...              164   \n",
       "2  $2a$04$Bnykut954sIf2sEmwuDmoOQ3TQrwdVBoChy/B6b...              164   \n",
       "3  $2a$04$Bnykut954sIf2sEmwuDmoO/BWbhPRndiJz6NPDr...              164   \n",
       "4  $2a$04$Bnykut954sIf2sEmwuDmoOH5/puP4OEVFQsK8mW...              105   \n",
       "\n",
       "  HOME_COUNTRY_NAME  VISITED_COUNTRY_ID VISITED_COUNTRY_NAME  HOME_NETWORK_ID  \\\n",
       "0           GERMANY                 175          SWITZERLAND               58   \n",
       "1           GERMANY                 105               POLAND               58   \n",
       "2           GERMANY                 182               GREECE               58   \n",
       "3           GERMANY                 101              CROATIA               58   \n",
       "4            POLAND                 164              GERMANY               55   \n",
       "\n",
       "   HOME_NETWORK_NAME  VISITED_NETWORK_ID  VISITED_NETWORK_NAME        DN_ORIG  \\\n",
       "0              26201                  39               22803.0   491733268714   \n",
       "1              26201                  55               26002.0   491712XXXXXX   \n",
       "2              26201                 296               20201.0   491700XXXXXX   \n",
       "3              26201                 324               21901.0  4915121XXXXXX   \n",
       "4              26002                  58               26201.0    48510XXXXXX   \n",
       "\n",
       "   DN_IN_NOA CALL_TYPE ROAMING_TYPE  CURRENT_MSC_GT  SCCP_CALLED_GT  \\\n",
       "0          4        MO          OUT     41789310205      4917007525   \n",
       "1          4        MO          OUT     48602007070      4917007529   \n",
       "2          4        MO          OUT     30971400000      4917007531   \n",
       "3          4        MO          OUT       385980110      4917007531   \n",
       "4          4        MO          INB    491700970000    491600980760   \n",
       "\n",
       "   CALL_END_CLEAR_CAUSE_ID CALL_END_CLEAR_CAUSE_NAME  \\\n",
       "0                       18                DISCONNECT   \n",
       "1                       15           ROUTING_FAILURE   \n",
       "2                        8                    NORMAL   \n",
       "3                       16                 NO_ANSWER   \n",
       "4                        8                    NORMAL   \n",
       "\n",
       "   CALL_END_NETWORK_CLEAR_CAUSE       SESSION_START_TS         SESSION_END_TS  \\\n",
       "0                            16  27.06.19 06:50:16.304  27.06.19 07:00:00.104   \n",
       "1                            19  27.06.19 06:59:56.214  27.06.19 07:00:00.100   \n",
       "2                             0  27.06.19 07:00:00.137  27.06.19 07:00:00.143   \n",
       "3                             0  27.06.19 06:59:17.042  27.06.19 07:00:00.214   \n",
       "4                             0  27.06.19 07:00:00.218  27.06.19 07:00:00.219   \n",
       "\n",
       "      SESSION_DESC      SESSION_TS_ANSWER  SESSION_TS_DISCONNECT  \\\n",
       "0       DISCONNECT  27.06.19 06:50:23.825  27.06.19 07:00:00.104   \n",
       "1  ROUTING_FAILURE                    NaN                    NaN   \n",
       "2           NORMAL                    NaN                    NaN   \n",
       "3        NO_ANSWER                    NaN                    NaN   \n",
       "4           NORMAL                    NaN                    NaN   \n",
       "\n",
       "  SESSION_DUR_SEC EXTERNAL_CALL_REF_NUM  CAMEL_PHASE  RAF_NORMALIZE_TYPE  \\\n",
       "0        00:09:36        04D11423409274            2                   1   \n",
       "1        00:00:00            2E864D32A3            2                   1   \n",
       "2        00:00:00        04D114844072C2            2                   1   \n",
       "3        00:00:00        04D114A300F530            2                   1   \n",
       "4        00:00:00        04D114B3805142            2                   1   \n",
       "\n",
       "  RAF_DN_PRE_NORMALIZATION RAF_NORMALIZED_DN RAF_ACTIVATED_RULE_ID  \\\n",
       "0             491733268714      491733268714                   NaN   \n",
       "1             491712XXXXXX      491712XXXXXX                   NaN   \n",
       "2             491700XXXXXX      491700XXXXXX                 BL_57   \n",
       "3            4915121XXXXXX     4915121XXXXXX                   NaN   \n",
       "4              48510XXXXXX       48510XXXXXX                HMN_49   \n",
       "\n",
       "   RAF_EVENT_REPLY  RAF_STATUS  RAF_CRM_NOTIFICATION_FLAG  \n",
       "0                3           0                          0  \n",
       "1                3           0                          0  \n",
       "2                2           1                          0  \n",
       "3                3           0                          0  \n",
       "4                2           1                          1  "
      ]
     },
     "execution_count": 327,
     "metadata": {},
     "output_type": "execute_result"
    }
   ],
   "source": [
    "df.head()"
   ]
  },
  {
   "cell_type": "markdown",
   "metadata": {},
   "source": [
    "*this is the code in the start of RAF so no tracking on this call , tracking only if catch by one rule and need to be track evtReply.setTelEventReply(CONTINUE_DEASSIGN);\n",
    "because of that I dont get the info about the call in futur ... perhaps for development need to \"open\" it to get the entire call description*\n"
   ]
  },
  {
   "cell_type": "markdown",
   "metadata": {},
   "source": [
    "#### How many call were handled by RAF ?"
   ]
  },
  {
   "cell_type": "code",
   "execution_count": 328,
   "metadata": {},
   "outputs": [
    {
     "name": "stdout",
     "output_type": "stream",
     "text": [
      "174386 were handled by RAF among 291605 calls\n"
     ]
    }
   ],
   "source": [
    "num_of_call_handle_by_raf = len(df[df['RAF_ACTIVATED_RULE_ID'].notnull()])\n",
    "total_call = len(df)\n",
    "print(\"{} were handled by RAF among {} calls\".format(num_of_call_handle_by_raf,total_call))"
   ]
  },
  {
   "cell_type": "markdown",
   "metadata": {},
   "source": [
    "#### Let's plot all the rules, that caught the calls "
   ]
  },
  {
   "cell_type": "code",
   "execution_count": 329,
   "metadata": {},
   "outputs": [
    {
     "data": {
      "image/png": "[encoded data removed]",
      "text/plain": [
       "<matplotlib.figure.Figure at 0xae6397b8>"
      ]
     },
     "metadata": {},
     "output_type": "display_data"
    }
   ],
   "source": [
    "df['RAF_ACTIVATED_RULE_ID'].value_counts().plot(kind='bar',title='rules in RAF');"
   ]
  },
  {
   "cell_type": "code",
   "execution_count": 330,
   "metadata": {},
   "outputs": [
    {
     "data": {
      "image/png": "[encoded data removed]",
      "text/plain": [
       "<matplotlib.figure.Figure at 0xbaac14e0>"
      ]
     },
     "metadata": {},
     "output_type": "display_data"
    }
   ],
   "source": [
    "df['RAF_ACTIVATED_RULE_ID'].value_counts(dropna=False).plot(kind=\"pie\",autopct='%1.0f%%',explode=(0.1,0.1,0.1,0.1,0.1,0.1,0.1,0.1,0.1,0.1),colors=['lightgreen', 'salmon','lightgreen','red', 'salmon', 'salmon', 'salmon', 'salmon', 'salmon', 'salmon'],figsize=(8,8),title='RAF_ACTIVATED_RULE_ID');"
   ]
  },
  {
   "cell_type": "markdown",
   "metadata": {},
   "source": [
    "*As we can see the most \"popular\" rule is HMN_49 and BL_57 , later we will investigate this rules*"
   ]
  },
  {
   "cell_type": "markdown",
   "metadata": {},
   "source": [
    "#### Call end clear cause ( written by RAF )"
   ]
  },
  {
   "cell_type": "code",
   "execution_count": 331,
   "metadata": {},
   "outputs": [
    {
     "data": {
      "image/png": "[encoded data removed]",
      "text/plain": [
       "<matplotlib.figure.Figure at 0xbaad2ba8>"
      ]
     },
     "metadata": {},
     "output_type": "display_data"
    }
   ],
   "source": [
    "df['SESSION_DESC'].value_counts().plot(kind='bar');"
   ]
  },
  {
   "cell_type": "code",
   "execution_count": 332,
   "metadata": {},
   "outputs": [],
   "source": [
    "df_raf= df[df['RAF_ACTIVATED_RULE_ID'].notnull()]"
   ]
  },
  {
   "cell_type": "code",
   "execution_count": 333,
   "metadata": {},
   "outputs": [
    {
     "data": {
      "text/plain": [
       "NORMAL             174304\n",
       "DISCONNECT             34\n",
       "CALL_ENDED             26\n",
       "ABANDON                16\n",
       "ROUTING_FAILURE         6\n",
       "Name: SESSION_DESC, dtype: int64"
      ]
     },
     "execution_count": 333,
     "metadata": {},
     "output_type": "execute_result"
    }
   ],
   "source": [
    "df_raf['SESSION_DESC'].value_counts()"
   ]
  },
  {
   "cell_type": "markdown",
   "metadata": {},
   "source": [
    "*We don't have any information about the call after we catch rule , because we send continue and not continue + RRB ( like for non matched rules call)*"
   ]
  },
  {
   "cell_type": "markdown",
   "metadata": {},
   "source": [
    "*All the calls caught by rule get end_call_cause = NORMAL , we don't track after them ( only for LNG and ACC)*"
   ]
  },
  {
   "cell_type": "markdown",
   "metadata": {},
   "source": [
    "#### Most popular destination for DTAG users (outbound)? most popular users countries for inbound?  "
   ]
  },
  {
   "cell_type": "code",
   "execution_count": 334,
   "metadata": {},
   "outputs": [],
   "source": [
    "df_inbound  = df[df['ROAMING_TYPE'] =='INB']\n",
    "df_outbound  = df[df['ROAMING_TYPE'] =='OUT']"
   ]
  },
  {
   "cell_type": "code",
   "execution_count": 335,
   "metadata": {},
   "outputs": [
    {
     "data": {
      "image/png": "[encoded data removed]",
      "text/plain": [
       "<matplotlib.figure.Figure at 0xb6575080>"
      ]
     },
     "metadata": {},
     "output_type": "display_data"
    }
   ],
   "source": [
    "df_inbound['HOME_COUNTRY_NAME'].value_counts()[:40].plot(kind='bar',figsize=(10,5));"
   ]
  },
  {
   "cell_type": "code",
   "execution_count": 336,
   "metadata": {},
   "outputs": [
    {
     "data": {
      "image/png": "[encoded data removed]",
      "text/plain": [
       "<matplotlib.figure.Figure at 0xba79e0f0>"
      ]
     },
     "metadata": {},
     "output_type": "display_data"
    }
   ],
   "source": [
    "df_outbound['VISITED_COUNTRY_NAME'].value_counts()[:40].plot(kind='bar',figsize=(10,5));"
   ]
  },
  {
   "cell_type": "markdown",
   "metadata": {},
   "source": [
    "#### How many calls barred by RAF ?"
   ]
  },
  {
   "cell_type": "code",
   "execution_count": 337,
   "metadata": {},
   "outputs": [
    {
     "name": "stdout",
     "output_type": "stream",
     "text": [
      "5380 calls were barred by RAF\n"
     ]
    }
   ],
   "source": [
    "df_block = df[df['RAF_EVENT_REPLY'] == 1 ]\n",
    "print(\"{} calls were barred by RAF\".format(len(df_block)))"
   ]
  },
  {
   "cell_type": "markdown",
   "metadata": {},
   "source": [
    "#### Which rules barred those calls ? "
   ]
  },
  {
   "cell_type": "code",
   "execution_count": 338,
   "metadata": {},
   "outputs": [
    {
     "data": {
      "image/png": "[encoded data removed]",
      "text/plain": [
       "<matplotlib.figure.Figure at 0xb66f5198>"
      ]
     },
     "metadata": {},
     "output_type": "display_data"
    }
   ],
   "source": [
    "df_block['RAF_ACTIVATED_RULE_ID'].value_counts().plot(kind='bar');"
   ]
  },
  {
   "cell_type": "markdown",
   "metadata": {},
   "source": [
    "*So it's pretty clear ;-)*"
   ]
  },
  {
   "cell_type": "markdown",
   "metadata": {},
   "source": [
    "#### Let's explore rule HMN_49 who handled more than 100000 calls .."
   ]
  },
  {
   "cell_type": "code",
   "execution_count": 339,
   "metadata": {},
   "outputs": [
    {
     "data": {
      "text/plain": [
       "INB    106416\n",
       "Name: ROAMING_TYPE, dtype: int64"
      ]
     },
     "execution_count": 339,
     "metadata": {},
     "output_type": "execute_result"
    }
   ],
   "source": [
    "df[df['RAF_ACTIVATED_RULE_ID'] == 'HMN_49']['ROAMING_TYPE'].value_counts()"
   ]
  },
  {
   "cell_type": "markdown",
   "metadata": {},
   "source": [
    "*this rule is activate only in INBOUND calls , it's check the country of the visiting user , let's see all the countries define in this rule*"
   ]
  },
  {
   "cell_type": "code",
   "execution_count": 340,
   "metadata": {},
   "outputs": [
    {
     "data": {
      "text/plain": [
       "array(['POLAND', 'SWITZERLAND', 'ROMANIA', 'LATVIA', 'CANADA',\n",
       "       'LITHUANIA', 'HUNGARY', 'CHINA', 'ALBANIA', 'SLOVAKIA', 'CROATIA',\n",
       "       'FINLAND', 'SPAIN', 'RUSSIA', 'NETHERLANDS', 'INDIA - Kolkata',\n",
       "       'NORWAY', 'SLOVENIA', 'AUSTRIA', 'JAPAN', 'DENMARK', 'FRANCE',\n",
       "       'KAZAKHSTAN', 'FAROE ISLANDS', 'INDIA - Chennai', 'GREECE',\n",
       "       'IRELAND', 'INDIA - Delhi', 'AUSTRALIA', 'ESTONIA',\n",
       "       'INDIA - Karnataka', 'HONG KONG', 'INDIA - Orissa',\n",
       "       'BOSNIA AND HERZEGOVINA', 'BULGARIA', 'ITALY', 'BELGIUM',\n",
       "       'CZECH REPUBLIC', 'PORTUGAL', 'INDIA - Maharashtra',\n",
       "       'INDIA - Andhra Pradesh', 'BANGLADESH', 'UK', 'UKRAINE',\n",
       "       'MADAGASCAR', 'TAIWAN', 'INDONESIA', 'KOREA (SOUTH)',\n",
       "       'INDIA - Punjab', 'ICELAND', 'SWEDEN', 'INDIA - Tamil Nadu',\n",
       "       'INDIA - UP West', 'MOLDOVA', 'INDIA - Bihar', 'USA',\n",
       "       'INDIA - Mumbai', 'THAILAND', 'EGYPT', 'MALAYSIA', 'KUWAIT',\n",
       "       'UNITED ARAB EMIRATES', 'ISRAEL', 'INDIA - UP East',\n",
       "       'SOUTH AFRICA', 'INDIA - Kerala', 'PHILIPPINES',\n",
       "       'INDIA - Rajasthan', 'AZERBAIJAN', 'MALTA', 'SINGAPORE',\n",
       "       'MACEDONIA', 'PAKISTAN', 'LIECHTENSTEIN', 'MONTENEGRO', 'TURKEY',\n",
       "       'INDIA - Madhya Pradesh', 'OMAN', 'VIETNAM', 'INDIA - Haryana',\n",
       "       'MEXICO', 'MOROCCO', 'SRI LANKA', 'NEW ZEALAND', 'TUNISIA',\n",
       "       'BAHRAIN', 'ANDORRA', 'INDIA - Gujarat',\n",
       "       'INDIA - Himachal Pradesh', 'BELARUS', 'LEBANON', 'ARMENIA',\n",
       "       'BOLIVIA', 'CHILE', 'MALI', 'CUBA', 'FRENCH WEST INDIES',\n",
       "       'KYRGYZSTAN', 'ALGERIA', 'SUDAN', 'COLOMBIA', 'MALDIVES',\n",
       "       'INDIA - Assam', 'BRAZIL', 'PERU'], dtype=object)"
      ]
     },
     "execution_count": 340,
     "metadata": {},
     "output_type": "execute_result"
    }
   ],
   "source": [
    "df[df['RAF_ACTIVATED_RULE_ID'] == 'HMN_49']['HOME_COUNTRY_NAME'].unique()"
   ]
  },
  {
   "cell_type": "markdown",
   "metadata": {},
   "source": [
    "*Now we can understand why raf handled so many calls ...*"
   ]
  },
  {
   "cell_type": "markdown",
   "metadata": {},
   "source": [
    "### EDA Conclusion"
   ]
  },
  {
   "cell_type": "markdown",
   "metadata": {},
   "source": [
    "We can see that 39% of the calls were handled by RAF as potential fraud (i.e catch by a rule).\n",
    "The first Idea was to find the similarity between calls to find potential fraud calls that are very similar to those catch by RAF , but , due to the fact that the rule of DTAG are very \"large\" I change the goal of this project.\n",
    "After EDA we can see that 5380 calls were released by RAF , so the goal is to \"learn\" this calls to find further fraud calls with the same behaviour but from others subscribers."
   ]
  },
  {
   "cell_type": "markdown",
   "metadata": {},
   "source": [
    "# DATA CLEANING part 2"
   ]
  },
  {
   "cell_type": "markdown",
   "metadata": {},
   "source": [
    "*EDA done, we don't need anymore all the columns \"name\" , we have id columns*"
   ]
  },
  {
   "cell_type": "code",
   "execution_count": 341,
   "metadata": {},
   "outputs": [],
   "source": [
    "df = df.drop([\"HOME_COUNTRY_NAME\",\"VISITED_COUNTRY_NAME\",\"HOME_NETWORK_NAME\",\"VISITED_NETWORK_NAME\",\"CALL_END_CLEAR_CAUSE_NAME\"],axis=1)"
   ]
  },
  {
   "cell_type": "markdown",
   "metadata": {},
   "source": [
    "*In order to be in phase with the reality we need to delete all the column wrote by RAF and let only those given by the network the \"metadata\" of the call*"
   ]
  },
  {
   "cell_type": "code",
   "execution_count": 342,
   "metadata": {},
   "outputs": [],
   "source": [
    "df = df.drop([\"RAF_CRM_NOTIFICATION_FLAG\",\"RAF_EVENT_REPLY\",\"RAF_ACTIVATED_RULE_ID\",\"RAF_NORMALIZED_DN\",\"RAF_DN_PRE_NORMALIZATION\",\"CALL_END_CLEAR_CAUSE_ID\",\"CALL_END_NETWORK_CLEAR_CAUSE\"],axis=1)"
   ]
  },
  {
   "cell_type": "code",
   "execution_count": 343,
   "metadata": {
    "scrolled": true
   },
   "outputs": [
    {
     "data": {
      "text/plain": [
       "(291605, 22)"
      ]
     },
     "execution_count": 343,
     "metadata": {},
     "output_type": "execute_result"
    }
   ],
   "source": [
    "df.shape"
   ]
  },
  {
   "cell_type": "markdown",
   "metadata": {},
   "source": [
    "*Due to the fact that call handled by RAF return CONTINUE + DEASSIGN I don't have any information about the call duration session end etc .. It's an huge lack of information because it's a basic info of each call ...*"
   ]
  },
  {
   "cell_type": "code",
   "execution_count": 344,
   "metadata": {},
   "outputs": [],
   "source": [
    "df = df.drop([\"SESSION_END_TS\",\"SESSION_DESC\",\"SESSION_TS_ANSWER\",\"SESSION_TS_DISCONNECT\",\"SESSION_DUR_SEC\"],axis=1)"
   ]
  },
  {
   "cell_type": "markdown",
   "metadata": {},
   "source": [
    "#### getDummies\n",
    "* CALL_TYPE\n",
    "* ROAMING_TYPE\n",
    "* DN_IN_NOA\n",
    "* CAMEL_PHASE\n",
    "* RAF_NORMALIZE_TYPE"
   ]
  },
  {
   "cell_type": "code",
   "execution_count": 345,
   "metadata": {},
   "outputs": [],
   "source": [
    "df = pd.get_dummies(df, columns=[\"CALL_TYPE\",\"ROAMING_TYPE\",\"DN_IN_NOA\",\"RAF_NORMALIZE_TYPE\"],sparse=True)"
   ]
  },
  {
   "cell_type": "markdown",
   "metadata": {},
   "source": [
    "#### LabelEncoder\n",
    "* EXTERNAL_CALL_REF_NUM\n",
    "* IMSI\n",
    "* MSISDN"
   ]
  },
  {
   "cell_type": "code",
   "execution_count": 346,
   "metadata": {},
   "outputs": [],
   "source": [
    "from sklearn.preprocessing import LabelEncoder\n",
    "le_cols = []\n",
    "for c in [\"EXTERNAL_CALL_REF_NUM\",\"IMSI\",\"MSISDN\"]:\n",
    "            le = LabelEncoder()\n",
    "            le.fit(df[c])\n",
    "            le_cols.append(le)\n",
    "            df[c] = le.transform(df[c])"
   ]
  },
  {
   "cell_type": "code",
   "execution_count": 347,
   "metadata": {},
   "outputs": [
    {
     "data": {
      "text/html": [
       "<div>\n",
       "<style scoped>\n",
       "    .dataframe tbody tr th:only-of-type {\n",
       "        vertical-align: middle;\n",
       "    }\n",
       "\n",
       "    .dataframe tbody tr th {\n",
       "        vertical-align: top;\n",
       "    }\n",
       "\n",
       "    .dataframe thead th {\n",
       "        text-align: right;\n",
       "    }\n",
       "</style>\n",
       "<table border=\"1\" class=\"dataframe\">\n",
       "  <thead>\n",
       "    <tr style=\"text-align: right;\">\n",
       "      <th></th>\n",
       "      <th>IMSI</th>\n",
       "      <th>MSISDN</th>\n",
       "      <th>HOME_COUNTRY_ID</th>\n",
       "      <th>VISITED_COUNTRY_ID</th>\n",
       "      <th>HOME_NETWORK_ID</th>\n",
       "      <th>VISITED_NETWORK_ID</th>\n",
       "      <th>DN_ORIG</th>\n",
       "      <th>CURRENT_MSC_GT</th>\n",
       "      <th>SCCP_CALLED_GT</th>\n",
       "      <th>SESSION_START_TS</th>\n",
       "      <th>EXTERNAL_CALL_REF_NUM</th>\n",
       "      <th>CAMEL_PHASE</th>\n",
       "      <th>RAF_STATUS</th>\n",
       "      <th>CALL_TYPE_MF</th>\n",
       "      <th>CALL_TYPE_MO</th>\n",
       "      <th>ROAMING_TYPE_INB</th>\n",
       "      <th>ROAMING_TYPE_OUT</th>\n",
       "      <th>DN_IN_NOA_1</th>\n",
       "      <th>DN_IN_NOA_2</th>\n",
       "      <th>DN_IN_NOA_4</th>\n",
       "      <th>RAF_NORMALIZE_TYPE_1</th>\n",
       "      <th>RAF_NORMALIZE_TYPE_2</th>\n",
       "      <th>RAF_NORMALIZE_TYPE_3</th>\n",
       "      <th>RAF_NORMALIZE_TYPE_4</th>\n",
       "    </tr>\n",
       "  </thead>\n",
       "  <tbody>\n",
       "    <tr>\n",
       "      <th>0</th>\n",
       "      <td>145979</td>\n",
       "      <td>115112</td>\n",
       "      <td>164</td>\n",
       "      <td>175</td>\n",
       "      <td>58</td>\n",
       "      <td>39</td>\n",
       "      <td>491733268714</td>\n",
       "      <td>41789310205</td>\n",
       "      <td>4917007525</td>\n",
       "      <td>27.06.19 06:50:16.304</td>\n",
       "      <td>52268</td>\n",
       "      <td>2</td>\n",
       "      <td>0</td>\n",
       "      <td>0</td>\n",
       "      <td>1</td>\n",
       "      <td>0</td>\n",
       "      <td>1</td>\n",
       "      <td>0</td>\n",
       "      <td>0</td>\n",
       "      <td>1</td>\n",
       "      <td>1</td>\n",
       "      <td>0</td>\n",
       "      <td>0</td>\n",
       "      <td>0</td>\n",
       "    </tr>\n",
       "    <tr>\n",
       "      <th>1</th>\n",
       "      <td>7054</td>\n",
       "      <td>3843</td>\n",
       "      <td>164</td>\n",
       "      <td>105</td>\n",
       "      <td>58</td>\n",
       "      <td>55</td>\n",
       "      <td>491712XXXXXX</td>\n",
       "      <td>48602007070</td>\n",
       "      <td>4917007529</td>\n",
       "      <td>27.06.19 06:59:56.214</td>\n",
       "      <td>193031</td>\n",
       "      <td>2</td>\n",
       "      <td>0</td>\n",
       "      <td>0</td>\n",
       "      <td>1</td>\n",
       "      <td>0</td>\n",
       "      <td>1</td>\n",
       "      <td>0</td>\n",
       "      <td>0</td>\n",
       "      <td>1</td>\n",
       "      <td>1</td>\n",
       "      <td>0</td>\n",
       "      <td>0</td>\n",
       "      <td>0</td>\n",
       "    </tr>\n",
       "    <tr>\n",
       "      <th>2</th>\n",
       "      <td>51456</td>\n",
       "      <td>23126</td>\n",
       "      <td>164</td>\n",
       "      <td>182</td>\n",
       "      <td>58</td>\n",
       "      <td>296</td>\n",
       "      <td>491700XXXXXX</td>\n",
       "      <td>30971400000</td>\n",
       "      <td>4917007531</td>\n",
       "      <td>27.06.19 07:00:00.137</td>\n",
       "      <td>79852</td>\n",
       "      <td>2</td>\n",
       "      <td>1</td>\n",
       "      <td>0</td>\n",
       "      <td>1</td>\n",
       "      <td>0</td>\n",
       "      <td>1</td>\n",
       "      <td>0</td>\n",
       "      <td>0</td>\n",
       "      <td>1</td>\n",
       "      <td>1</td>\n",
       "      <td>0</td>\n",
       "      <td>0</td>\n",
       "      <td>0</td>\n",
       "    </tr>\n",
       "    <tr>\n",
       "      <th>3</th>\n",
       "      <td>1629</td>\n",
       "      <td>967</td>\n",
       "      <td>164</td>\n",
       "      <td>101</td>\n",
       "      <td>58</td>\n",
       "      <td>324</td>\n",
       "      <td>4915121XXXXXX</td>\n",
       "      <td>385980110</td>\n",
       "      <td>4917007531</td>\n",
       "      <td>27.06.19 06:59:17.042</td>\n",
       "      <td>84078</td>\n",
       "      <td>2</td>\n",
       "      <td>0</td>\n",
       "      <td>0</td>\n",
       "      <td>1</td>\n",
       "      <td>0</td>\n",
       "      <td>1</td>\n",
       "      <td>0</td>\n",
       "      <td>0</td>\n",
       "      <td>1</td>\n",
       "      <td>1</td>\n",
       "      <td>0</td>\n",
       "      <td>0</td>\n",
       "      <td>0</td>\n",
       "    </tr>\n",
       "    <tr>\n",
       "      <th>4</th>\n",
       "      <td>475</td>\n",
       "      <td>15681</td>\n",
       "      <td>105</td>\n",
       "      <td>164</td>\n",
       "      <td>55</td>\n",
       "      <td>58</td>\n",
       "      <td>48510XXXXXX</td>\n",
       "      <td>491700970000</td>\n",
       "      <td>491600980760</td>\n",
       "      <td>27.06.19 07:00:00.218</td>\n",
       "      <td>89585</td>\n",
       "      <td>2</td>\n",
       "      <td>1</td>\n",
       "      <td>0</td>\n",
       "      <td>1</td>\n",
       "      <td>1</td>\n",
       "      <td>0</td>\n",
       "      <td>0</td>\n",
       "      <td>0</td>\n",
       "      <td>1</td>\n",
       "      <td>1</td>\n",
       "      <td>0</td>\n",
       "      <td>0</td>\n",
       "      <td>0</td>\n",
       "    </tr>\n",
       "  </tbody>\n",
       "</table>\n",
       "</div>"
      ],
      "text/plain": [
       "     IMSI  MSISDN  HOME_COUNTRY_ID  VISITED_COUNTRY_ID  HOME_NETWORK_ID  \\\n",
       "0  145979  115112              164                 175               58   \n",
       "1    7054    3843              164                 105               58   \n",
       "2   51456   23126              164                 182               58   \n",
       "3    1629     967              164                 101               58   \n",
       "4     475   15681              105                 164               55   \n",
       "\n",
       "   VISITED_NETWORK_ID        DN_ORIG  CURRENT_MSC_GT  SCCP_CALLED_GT  \\\n",
       "0                  39   491733268714     41789310205      4917007525   \n",
       "1                  55   491712XXXXXX     48602007070      4917007529   \n",
       "2                 296   491700XXXXXX     30971400000      4917007531   \n",
       "3                 324  4915121XXXXXX       385980110      4917007531   \n",
       "4                  58    48510XXXXXX    491700970000    491600980760   \n",
       "\n",
       "        SESSION_START_TS  EXTERNAL_CALL_REF_NUM  CAMEL_PHASE  RAF_STATUS  \\\n",
       "0  27.06.19 06:50:16.304                  52268            2           0   \n",
       "1  27.06.19 06:59:56.214                 193031            2           0   \n",
       "2  27.06.19 07:00:00.137                  79852            2           1   \n",
       "3  27.06.19 06:59:17.042                  84078            2           0   \n",
       "4  27.06.19 07:00:00.218                  89585            2           1   \n",
       "\n",
       "   CALL_TYPE_MF  CALL_TYPE_MO  ROAMING_TYPE_INB  ROAMING_TYPE_OUT  \\\n",
       "0             0             1                 0                 1   \n",
       "1             0             1                 0                 1   \n",
       "2             0             1                 0                 1   \n",
       "3             0             1                 0                 1   \n",
       "4             0             1                 1                 0   \n",
       "\n",
       "   DN_IN_NOA_1  DN_IN_NOA_2  DN_IN_NOA_4  RAF_NORMALIZE_TYPE_1  \\\n",
       "0            0            0            1                     1   \n",
       "1            0            0            1                     1   \n",
       "2            0            0            1                     1   \n",
       "3            0            0            1                     1   \n",
       "4            0            0            1                     1   \n",
       "\n",
       "   RAF_NORMALIZE_TYPE_2  RAF_NORMALIZE_TYPE_3  RAF_NORMALIZE_TYPE_4  \n",
       "0                     0                     0                     0  \n",
       "1                     0                     0                     0  \n",
       "2                     0                     0                     0  \n",
       "3                     0                     0                     0  \n",
       "4                     0                     0                     0  "
      ]
     },
     "execution_count": 347,
     "metadata": {},
     "output_type": "execute_result"
    }
   ],
   "source": [
    "df.head()"
   ]
  },
  {
   "cell_type": "markdown",
   "metadata": {},
   "source": [
    "## Feature engeniering"
   ]
  },
  {
   "cell_type": "markdown",
   "metadata": {},
   "source": [
    "Feature Engineering: The process of taking raw data and extracting or creating new features that allow a machine learning model to learn a mapping beween these features and the target. This might mean taking transformations of variables. Generally, feature engineering is adding additional features derived from the raw data."
   ]
  },
  {
   "cell_type": "markdown",
   "metadata": {},
   "source": [
    "#### Add feature about time :\n",
    "* the hour of the call\n",
    "* if the call was on WE or not "
   ]
  },
  {
   "cell_type": "code",
   "execution_count": 348,
   "metadata": {},
   "outputs": [],
   "source": [
    "df['SESSION_START_TS'] = pd.to_datetime(df['SESSION_START_TS']) "
   ]
  },
  {
   "cell_type": "code",
   "execution_count": 349,
   "metadata": {},
   "outputs": [],
   "source": [
    "df['SESSION_START_HOUR'] = df['SESSION_START_TS'].dt.hour"
   ]
  },
  {
   "cell_type": "code",
   "execution_count": 350,
   "metadata": {},
   "outputs": [],
   "source": [
    "def getIfDateWE(date):\n",
    "    weekno = date.weekday()\n",
    "    if weekno<5:\n",
    "        return 0\n",
    "    else:\n",
    "        return 1"
   ]
  },
  {
   "cell_type": "code",
   "execution_count": 351,
   "metadata": {},
   "outputs": [],
   "source": [
    "df['SESSION_START_WE'] = df['SESSION_START_TS'].apply(lambda date : getIfDateWE(date))"
   ]
  },
  {
   "cell_type": "code",
   "execution_count": 352,
   "metadata": {},
   "outputs": [
    {
     "data": {
      "text/html": [
       "<div>\n",
       "<style scoped>\n",
       "    .dataframe tbody tr th:only-of-type {\n",
       "        vertical-align: middle;\n",
       "    }\n",
       "\n",
       "    .dataframe tbody tr th {\n",
       "        vertical-align: top;\n",
       "    }\n",
       "\n",
       "    .dataframe thead th {\n",
       "        text-align: right;\n",
       "    }\n",
       "</style>\n",
       "<table border=\"1\" class=\"dataframe\">\n",
       "  <thead>\n",
       "    <tr style=\"text-align: right;\">\n",
       "      <th></th>\n",
       "      <th>IMSI</th>\n",
       "      <th>MSISDN</th>\n",
       "      <th>HOME_COUNTRY_ID</th>\n",
       "      <th>VISITED_COUNTRY_ID</th>\n",
       "      <th>HOME_NETWORK_ID</th>\n",
       "      <th>VISITED_NETWORK_ID</th>\n",
       "      <th>DN_ORIG</th>\n",
       "      <th>CURRENT_MSC_GT</th>\n",
       "      <th>SCCP_CALLED_GT</th>\n",
       "      <th>SESSION_START_TS</th>\n",
       "      <th>EXTERNAL_CALL_REF_NUM</th>\n",
       "      <th>CAMEL_PHASE</th>\n",
       "      <th>RAF_STATUS</th>\n",
       "      <th>CALL_TYPE_MF</th>\n",
       "      <th>CALL_TYPE_MO</th>\n",
       "      <th>ROAMING_TYPE_INB</th>\n",
       "      <th>ROAMING_TYPE_OUT</th>\n",
       "      <th>DN_IN_NOA_1</th>\n",
       "      <th>DN_IN_NOA_2</th>\n",
       "      <th>DN_IN_NOA_4</th>\n",
       "      <th>RAF_NORMALIZE_TYPE_1</th>\n",
       "      <th>RAF_NORMALIZE_TYPE_2</th>\n",
       "      <th>RAF_NORMALIZE_TYPE_3</th>\n",
       "      <th>RAF_NORMALIZE_TYPE_4</th>\n",
       "      <th>SESSION_START_HOUR</th>\n",
       "      <th>SESSION_START_WE</th>\n",
       "    </tr>\n",
       "  </thead>\n",
       "  <tbody>\n",
       "    <tr>\n",
       "      <th>0</th>\n",
       "      <td>145979</td>\n",
       "      <td>115112</td>\n",
       "      <td>164</td>\n",
       "      <td>175</td>\n",
       "      <td>58</td>\n",
       "      <td>39</td>\n",
       "      <td>491733268714</td>\n",
       "      <td>41789310205</td>\n",
       "      <td>4917007525</td>\n",
       "      <td>2019-06-27 06:50:16.304</td>\n",
       "      <td>52268</td>\n",
       "      <td>2</td>\n",
       "      <td>0</td>\n",
       "      <td>0</td>\n",
       "      <td>1</td>\n",
       "      <td>0</td>\n",
       "      <td>1</td>\n",
       "      <td>0</td>\n",
       "      <td>0</td>\n",
       "      <td>1</td>\n",
       "      <td>1</td>\n",
       "      <td>0</td>\n",
       "      <td>0</td>\n",
       "      <td>0</td>\n",
       "      <td>6</td>\n",
       "      <td>0</td>\n",
       "    </tr>\n",
       "    <tr>\n",
       "      <th>1</th>\n",
       "      <td>7054</td>\n",
       "      <td>3843</td>\n",
       "      <td>164</td>\n",
       "      <td>105</td>\n",
       "      <td>58</td>\n",
       "      <td>55</td>\n",
       "      <td>491712XXXXXX</td>\n",
       "      <td>48602007070</td>\n",
       "      <td>4917007529</td>\n",
       "      <td>2019-06-27 06:59:56.214</td>\n",
       "      <td>193031</td>\n",
       "      <td>2</td>\n",
       "      <td>0</td>\n",
       "      <td>0</td>\n",
       "      <td>1</td>\n",
       "      <td>0</td>\n",
       "      <td>1</td>\n",
       "      <td>0</td>\n",
       "      <td>0</td>\n",
       "      <td>1</td>\n",
       "      <td>1</td>\n",
       "      <td>0</td>\n",
       "      <td>0</td>\n",
       "      <td>0</td>\n",
       "      <td>6</td>\n",
       "      <td>0</td>\n",
       "    </tr>\n",
       "    <tr>\n",
       "      <th>2</th>\n",
       "      <td>51456</td>\n",
       "      <td>23126</td>\n",
       "      <td>164</td>\n",
       "      <td>182</td>\n",
       "      <td>58</td>\n",
       "      <td>296</td>\n",
       "      <td>491700XXXXXX</td>\n",
       "      <td>30971400000</td>\n",
       "      <td>4917007531</td>\n",
       "      <td>2019-06-27 07:00:00.137</td>\n",
       "      <td>79852</td>\n",
       "      <td>2</td>\n",
       "      <td>1</td>\n",
       "      <td>0</td>\n",
       "      <td>1</td>\n",
       "      <td>0</td>\n",
       "      <td>1</td>\n",
       "      <td>0</td>\n",
       "      <td>0</td>\n",
       "      <td>1</td>\n",
       "      <td>1</td>\n",
       "      <td>0</td>\n",
       "      <td>0</td>\n",
       "      <td>0</td>\n",
       "      <td>7</td>\n",
       "      <td>0</td>\n",
       "    </tr>\n",
       "    <tr>\n",
       "      <th>3</th>\n",
       "      <td>1629</td>\n",
       "      <td>967</td>\n",
       "      <td>164</td>\n",
       "      <td>101</td>\n",
       "      <td>58</td>\n",
       "      <td>324</td>\n",
       "      <td>4915121XXXXXX</td>\n",
       "      <td>385980110</td>\n",
       "      <td>4917007531</td>\n",
       "      <td>2019-06-27 06:59:17.042</td>\n",
       "      <td>84078</td>\n",
       "      <td>2</td>\n",
       "      <td>0</td>\n",
       "      <td>0</td>\n",
       "      <td>1</td>\n",
       "      <td>0</td>\n",
       "      <td>1</td>\n",
       "      <td>0</td>\n",
       "      <td>0</td>\n",
       "      <td>1</td>\n",
       "      <td>1</td>\n",
       "      <td>0</td>\n",
       "      <td>0</td>\n",
       "      <td>0</td>\n",
       "      <td>6</td>\n",
       "      <td>0</td>\n",
       "    </tr>\n",
       "    <tr>\n",
       "      <th>4</th>\n",
       "      <td>475</td>\n",
       "      <td>15681</td>\n",
       "      <td>105</td>\n",
       "      <td>164</td>\n",
       "      <td>55</td>\n",
       "      <td>58</td>\n",
       "      <td>48510XXXXXX</td>\n",
       "      <td>491700970000</td>\n",
       "      <td>491600980760</td>\n",
       "      <td>2019-06-27 07:00:00.218</td>\n",
       "      <td>89585</td>\n",
       "      <td>2</td>\n",
       "      <td>1</td>\n",
       "      <td>0</td>\n",
       "      <td>1</td>\n",
       "      <td>1</td>\n",
       "      <td>0</td>\n",
       "      <td>0</td>\n",
       "      <td>0</td>\n",
       "      <td>1</td>\n",
       "      <td>1</td>\n",
       "      <td>0</td>\n",
       "      <td>0</td>\n",
       "      <td>0</td>\n",
       "      <td>7</td>\n",
       "      <td>0</td>\n",
       "    </tr>\n",
       "  </tbody>\n",
       "</table>\n",
       "</div>"
      ],
      "text/plain": [
       "     IMSI  MSISDN  HOME_COUNTRY_ID  VISITED_COUNTRY_ID  HOME_NETWORK_ID  \\\n",
       "0  145979  115112              164                 175               58   \n",
       "1    7054    3843              164                 105               58   \n",
       "2   51456   23126              164                 182               58   \n",
       "3    1629     967              164                 101               58   \n",
       "4     475   15681              105                 164               55   \n",
       "\n",
       "   VISITED_NETWORK_ID        DN_ORIG  CURRENT_MSC_GT  SCCP_CALLED_GT  \\\n",
       "0                  39   491733268714     41789310205      4917007525   \n",
       "1                  55   491712XXXXXX     48602007070      4917007529   \n",
       "2                 296   491700XXXXXX     30971400000      4917007531   \n",
       "3                 324  4915121XXXXXX       385980110      4917007531   \n",
       "4                  58    48510XXXXXX    491700970000    491600980760   \n",
       "\n",
       "         SESSION_START_TS  EXTERNAL_CALL_REF_NUM  CAMEL_PHASE  RAF_STATUS  \\\n",
       "0 2019-06-27 06:50:16.304                  52268            2           0   \n",
       "1 2019-06-27 06:59:56.214                 193031            2           0   \n",
       "2 2019-06-27 07:00:00.137                  79852            2           1   \n",
       "3 2019-06-27 06:59:17.042                  84078            2           0   \n",
       "4 2019-06-27 07:00:00.218                  89585            2           1   \n",
       "\n",
       "   CALL_TYPE_MF  CALL_TYPE_MO  ROAMING_TYPE_INB  ROAMING_TYPE_OUT  \\\n",
       "0             0             1                 0                 1   \n",
       "1             0             1                 0                 1   \n",
       "2             0             1                 0                 1   \n",
       "3             0             1                 0                 1   \n",
       "4             0             1                 1                 0   \n",
       "\n",
       "   DN_IN_NOA_1  DN_IN_NOA_2  DN_IN_NOA_4  RAF_NORMALIZE_TYPE_1  \\\n",
       "0            0            0            1                     1   \n",
       "1            0            0            1                     1   \n",
       "2            0            0            1                     1   \n",
       "3            0            0            1                     1   \n",
       "4            0            0            1                     1   \n",
       "\n",
       "   RAF_NORMALIZE_TYPE_2  RAF_NORMALIZE_TYPE_3  RAF_NORMALIZE_TYPE_4  \\\n",
       "0                     0                     0                     0   \n",
       "1                     0                     0                     0   \n",
       "2                     0                     0                     0   \n",
       "3                     0                     0                     0   \n",
       "4                     0                     0                     0   \n",
       "\n",
       "   SESSION_START_HOUR  SESSION_START_WE  \n",
       "0                   6                 0  \n",
       "1                   6                 0  \n",
       "2                   7                 0  \n",
       "3                   6                 0  \n",
       "4                   7                 0  "
      ]
     },
     "execution_count": 352,
     "metadata": {},
     "output_type": "execute_result"
    }
   ],
   "source": [
    "df.head()"
   ]
  },
  {
   "cell_type": "code",
   "execution_count": 354,
   "metadata": {},
   "outputs": [
    {
     "data": {
      "image/png": "[encoded data removed]",
      "text/plain": [
       "<matplotlib.figure.Figure at 0xac900f28>"
      ]
     },
     "metadata": {},
     "output_type": "display_data"
    }
   ],
   "source": [
    "df['SESSION_START_WE'].value_counts().plot(kind=\"pie\",autopct='%1.0f%%',colors=['lightgreen', 'lightskyblue'],explode=(0.1, 0),figsize=(4,4),labels=['WeekDay','WeekEnd']);"
   ]
  },
  {
   "cell_type": "markdown",
   "metadata": {},
   "source": [
    "#### Add feature for length of DN"
   ]
  },
  {
   "cell_type": "code",
   "execution_count": 228,
   "metadata": {},
   "outputs": [],
   "source": [
    "df['DN_ORIG_LEN'] = df['DN_ORIG'].apply(lambda x : len(x))\n",
    "df['DN_ORIG']= df['DN_ORIG'].apply(lambda x : x[:5])"
   ]
  },
  {
   "cell_type": "code",
   "execution_count": 229,
   "metadata": {},
   "outputs": [],
   "source": [
    "def removeXLet(dnOrig):\n",
    "    res = ''\n",
    "    for number in dnOrig:\n",
    "        if number == 'X' or number == '*' or number == '#':\n",
    "            res = res + '0'\n",
    "        else :\n",
    "            res = res + number\n",
    "    return res"
   ]
  },
  {
   "cell_type": "code",
   "execution_count": 230,
   "metadata": {},
   "outputs": [],
   "source": [
    "df['DN_ORIG'] = df['DN_ORIG'].apply(removeXLet)"
   ]
  },
  {
   "cell_type": "markdown",
   "metadata": {},
   "source": [
    "*models accept only numeric value , so need to convert each column in numerical*"
   ]
  },
  {
   "cell_type": "code",
   "execution_count": 231,
   "metadata": {},
   "outputs": [],
   "source": [
    "df['DN_ORIG'] = df['DN_ORIG'].astype(int)"
   ]
  },
  {
   "cell_type": "code",
   "execution_count": 232,
   "metadata": {},
   "outputs": [
    {
     "data": {
      "text/html": [
       "<div>\n",
       "<style scoped>\n",
       "    .dataframe tbody tr th:only-of-type {\n",
       "        vertical-align: middle;\n",
       "    }\n",
       "\n",
       "    .dataframe tbody tr th {\n",
       "        vertical-align: top;\n",
       "    }\n",
       "\n",
       "    .dataframe thead th {\n",
       "        text-align: right;\n",
       "    }\n",
       "</style>\n",
       "<table border=\"1\" class=\"dataframe\">\n",
       "  <thead>\n",
       "    <tr style=\"text-align: right;\">\n",
       "      <th></th>\n",
       "      <th>IMSI</th>\n",
       "      <th>MSISDN</th>\n",
       "      <th>HOME_COUNTRY_ID</th>\n",
       "      <th>VISITED_COUNTRY_ID</th>\n",
       "      <th>HOME_NETWORK_ID</th>\n",
       "      <th>VISITED_NETWORK_ID</th>\n",
       "      <th>DN_ORIG</th>\n",
       "      <th>DN_IN_NOA</th>\n",
       "      <th>CALL_TYPE</th>\n",
       "      <th>ROAMING_TYPE</th>\n",
       "      <th>CURRENT_MSC_GT</th>\n",
       "      <th>SCCP_CALLED_GT</th>\n",
       "      <th>SESSION_START_TS</th>\n",
       "      <th>EXTERNAL_CALL_REF_NUM</th>\n",
       "      <th>CAMEL_PHASE</th>\n",
       "      <th>RAF_NORMALIZE_TYPE</th>\n",
       "      <th>RAF_STATUS</th>\n",
       "      <th>SESSION_START_HOUR</th>\n",
       "      <th>SESSION_START_WE</th>\n",
       "      <th>DN_ORIG_LEN</th>\n",
       "    </tr>\n",
       "  </thead>\n",
       "  <tbody>\n",
       "    <tr>\n",
       "      <th>0</th>\n",
       "      <td>262017444077152</td>\n",
       "      <td>491605839415</td>\n",
       "      <td>164</td>\n",
       "      <td>175</td>\n",
       "      <td>58</td>\n",
       "      <td>39</td>\n",
       "      <td>49173</td>\n",
       "      <td>4</td>\n",
       "      <td>MO</td>\n",
       "      <td>OUT</td>\n",
       "      <td>41789310205</td>\n",
       "      <td>4917007525</td>\n",
       "      <td>2019-06-27 06:50:16.304</td>\n",
       "      <td>04D11423409274</td>\n",
       "      <td>2</td>\n",
       "      <td>1</td>\n",
       "      <td>0</td>\n",
       "      <td>6</td>\n",
       "      <td>0</td>\n",
       "      <td>12</td>\n",
       "    </tr>\n",
       "    <tr>\n",
       "      <th>1</th>\n",
       "      <td>$2a$04$m3vFo49du.gqajd85FBEne6ey0BIWyBE55AoFBF...</td>\n",
       "      <td>$2a$04$Bnykut954sIf2sEmwuDmoO2c0JXnb.r3BeqHd.l...</td>\n",
       "      <td>164</td>\n",
       "      <td>105</td>\n",
       "      <td>58</td>\n",
       "      <td>55</td>\n",
       "      <td>49171</td>\n",
       "      <td>4</td>\n",
       "      <td>MO</td>\n",
       "      <td>OUT</td>\n",
       "      <td>48602007070</td>\n",
       "      <td>4917007529</td>\n",
       "      <td>2019-06-27 06:59:56.214</td>\n",
       "      <td>2E864D32A3</td>\n",
       "      <td>2</td>\n",
       "      <td>1</td>\n",
       "      <td>0</td>\n",
       "      <td>6</td>\n",
       "      <td>0</td>\n",
       "      <td>12</td>\n",
       "    </tr>\n",
       "    <tr>\n",
       "      <th>2</th>\n",
       "      <td>$2a$04$m3vFo49du.gqajd85FBEney5WXxNPhj/6rWUrI8...</td>\n",
       "      <td>$2a$04$Bnykut954sIf2sEmwuDmoOQ3TQrwdVBoChy/B6b...</td>\n",
       "      <td>164</td>\n",
       "      <td>182</td>\n",
       "      <td>58</td>\n",
       "      <td>296</td>\n",
       "      <td>49170</td>\n",
       "      <td>4</td>\n",
       "      <td>MO</td>\n",
       "      <td>OUT</td>\n",
       "      <td>30971400000</td>\n",
       "      <td>4917007531</td>\n",
       "      <td>2019-06-27 07:00:00.137</td>\n",
       "      <td>04D114844072C2</td>\n",
       "      <td>2</td>\n",
       "      <td>1</td>\n",
       "      <td>1</td>\n",
       "      <td>7</td>\n",
       "      <td>0</td>\n",
       "      <td>12</td>\n",
       "    </tr>\n",
       "    <tr>\n",
       "      <th>3</th>\n",
       "      <td>$2a$04$m3vFo49du.gqajd85FBEne0.nmboVB9WIIhaDKj...</td>\n",
       "      <td>$2a$04$Bnykut954sIf2sEmwuDmoO/BWbhPRndiJz6NPDr...</td>\n",
       "      <td>164</td>\n",
       "      <td>101</td>\n",
       "      <td>58</td>\n",
       "      <td>324</td>\n",
       "      <td>49151</td>\n",
       "      <td>4</td>\n",
       "      <td>MO</td>\n",
       "      <td>OUT</td>\n",
       "      <td>385980110</td>\n",
       "      <td>4917007531</td>\n",
       "      <td>2019-06-27 06:59:17.042</td>\n",
       "      <td>04D114A300F530</td>\n",
       "      <td>2</td>\n",
       "      <td>1</td>\n",
       "      <td>0</td>\n",
       "      <td>6</td>\n",
       "      <td>0</td>\n",
       "      <td>13</td>\n",
       "    </tr>\n",
       "    <tr>\n",
       "      <th>4</th>\n",
       "      <td>$2a$04$m3vFo49du.gqajd85FBEne.ZMTQ1xguNZa6XgiA...</td>\n",
       "      <td>$2a$04$Bnykut954sIf2sEmwuDmoOH5/puP4OEVFQsK8mW...</td>\n",
       "      <td>105</td>\n",
       "      <td>164</td>\n",
       "      <td>55</td>\n",
       "      <td>58</td>\n",
       "      <td>48510</td>\n",
       "      <td>4</td>\n",
       "      <td>MO</td>\n",
       "      <td>INB</td>\n",
       "      <td>491700970000</td>\n",
       "      <td>491600980760</td>\n",
       "      <td>2019-06-27 07:00:00.218</td>\n",
       "      <td>04D114B3805142</td>\n",
       "      <td>2</td>\n",
       "      <td>1</td>\n",
       "      <td>1</td>\n",
       "      <td>7</td>\n",
       "      <td>0</td>\n",
       "      <td>11</td>\n",
       "    </tr>\n",
       "  </tbody>\n",
       "</table>\n",
       "</div>"
      ],
      "text/plain": [
       "                                                IMSI  \\\n",
       "0                                    262017444077152   \n",
       "1  $2a$04$m3vFo49du.gqajd85FBEne6ey0BIWyBE55AoFBF...   \n",
       "2  $2a$04$m3vFo49du.gqajd85FBEney5WXxNPhj/6rWUrI8...   \n",
       "3  $2a$04$m3vFo49du.gqajd85FBEne0.nmboVB9WIIhaDKj...   \n",
       "4  $2a$04$m3vFo49du.gqajd85FBEne.ZMTQ1xguNZa6XgiA...   \n",
       "\n",
       "                                              MSISDN  HOME_COUNTRY_ID  \\\n",
       "0                                       491605839415              164   \n",
       "1  $2a$04$Bnykut954sIf2sEmwuDmoO2c0JXnb.r3BeqHd.l...              164   \n",
       "2  $2a$04$Bnykut954sIf2sEmwuDmoOQ3TQrwdVBoChy/B6b...              164   \n",
       "3  $2a$04$Bnykut954sIf2sEmwuDmoO/BWbhPRndiJz6NPDr...              164   \n",
       "4  $2a$04$Bnykut954sIf2sEmwuDmoOH5/puP4OEVFQsK8mW...              105   \n",
       "\n",
       "   VISITED_COUNTRY_ID  HOME_NETWORK_ID  VISITED_NETWORK_ID  DN_ORIG  \\\n",
       "0                 175               58                  39    49173   \n",
       "1                 105               58                  55    49171   \n",
       "2                 182               58                 296    49170   \n",
       "3                 101               58                 324    49151   \n",
       "4                 164               55                  58    48510   \n",
       "\n",
       "   DN_IN_NOA CALL_TYPE ROAMING_TYPE  CURRENT_MSC_GT  SCCP_CALLED_GT  \\\n",
       "0          4        MO          OUT     41789310205      4917007525   \n",
       "1          4        MO          OUT     48602007070      4917007529   \n",
       "2          4        MO          OUT     30971400000      4917007531   \n",
       "3          4        MO          OUT       385980110      4917007531   \n",
       "4          4        MO          INB    491700970000    491600980760   \n",
       "\n",
       "         SESSION_START_TS EXTERNAL_CALL_REF_NUM  CAMEL_PHASE  \\\n",
       "0 2019-06-27 06:50:16.304        04D11423409274            2   \n",
       "1 2019-06-27 06:59:56.214            2E864D32A3            2   \n",
       "2 2019-06-27 07:00:00.137        04D114844072C2            2   \n",
       "3 2019-06-27 06:59:17.042        04D114A300F530            2   \n",
       "4 2019-06-27 07:00:00.218        04D114B3805142            2   \n",
       "\n",
       "   RAF_NORMALIZE_TYPE  RAF_STATUS  SESSION_START_HOUR  SESSION_START_WE  \\\n",
       "0                   1           0                   6                 0   \n",
       "1                   1           0                   6                 0   \n",
       "2                   1           1                   7                 0   \n",
       "3                   1           0                   6                 0   \n",
       "4                   1           1                   7                 0   \n",
       "\n",
       "   DN_ORIG_LEN  \n",
       "0           12  \n",
       "1           12  \n",
       "2           12  \n",
       "3           13  \n",
       "4           11  "
      ]
     },
     "execution_count": 232,
     "metadata": {},
     "output_type": "execute_result"
    }
   ],
   "source": [
    "df.head()"
   ]
  },
  {
   "cell_type": "markdown",
   "metadata": {},
   "source": [
    "#### Add feature : tentative's number of calls per IMSI in one hour "
   ]
  },
  {
   "cell_type": "code",
   "execution_count": 233,
   "metadata": {},
   "outputs": [],
   "source": [
    "#df['New_ID'] = df.index "
   ]
  },
  {
   "cell_type": "code",
   "execution_count": 234,
   "metadata": {},
   "outputs": [],
   "source": [
    "#df.head()"
   ]
  },
  {
   "cell_type": "code",
   "execution_count": 235,
   "metadata": {},
   "outputs": [],
   "source": [
    "def numberOfTentative(call):\n",
    "    newId =  call['New_ID']\n",
    "    if newId % 5000 == 0:\n",
    "        print datetime.now()\n",
    "    start_date = call['SESSION_START_TS'] - timedelta(minutes=30)\n",
    "    end_date = call['SESSION_START_TS'] + timedelta(minutes=30)\n",
    "    currentDf = df[df['IMSI'] == call['IMSI']]\n",
    "    tentatives = currentDf[(currentDf['SESSION_START_TS'] > start_date) & (currentDf['SESSION_START_TS'] <= end_date)].shape[0]\n",
    "    return tentatives"
   ]
  },
  {
   "cell_type": "code",
   "execution_count": 236,
   "metadata": {},
   "outputs": [],
   "source": [
    "#df[\"NUM_OF_TENTATIVE\"] = df.apply(numberOfTentative,axis=1)"
   ]
  },
  {
   "cell_type": "code",
   "execution_count": 237,
   "metadata": {},
   "outputs": [],
   "source": [
    "#df['NUM_OF_TENTATIVE'].value_counts()"
   ]
  },
  {
   "cell_type": "code",
   "execution_count": 243,
   "metadata": {},
   "outputs": [],
   "source": [
    "df = df.drop([\"SESSION_START_TS\"],axis=1)"
   ]
  },
  {
   "cell_type": "code",
   "execution_count": 244,
   "metadata": {},
   "outputs": [
    {
     "data": {
      "text/html": [
       "<div>\n",
       "<style scoped>\n",
       "    .dataframe tbody tr th:only-of-type {\n",
       "        vertical-align: middle;\n",
       "    }\n",
       "\n",
       "    .dataframe tbody tr th {\n",
       "        vertical-align: top;\n",
       "    }\n",
       "\n",
       "    .dataframe thead th {\n",
       "        text-align: right;\n",
       "    }\n",
       "</style>\n",
       "<table border=\"1\" class=\"dataframe\">\n",
       "  <thead>\n",
       "    <tr style=\"text-align: right;\">\n",
       "      <th></th>\n",
       "      <th>IMSI</th>\n",
       "      <th>MSISDN</th>\n",
       "      <th>HOME_COUNTRY_ID</th>\n",
       "      <th>VISITED_COUNTRY_ID</th>\n",
       "      <th>HOME_NETWORK_ID</th>\n",
       "      <th>VISITED_NETWORK_ID</th>\n",
       "      <th>DN_ORIG</th>\n",
       "      <th>CURRENT_MSC_GT</th>\n",
       "      <th>SCCP_CALLED_GT</th>\n",
       "      <th>EXTERNAL_CALL_REF_NUM</th>\n",
       "      <th>CAMEL_PHASE</th>\n",
       "      <th>RAF_STATUS</th>\n",
       "      <th>SESSION_START_HOUR</th>\n",
       "      <th>SESSION_START_WE</th>\n",
       "      <th>DN_ORIG_LEN</th>\n",
       "      <th>CALL_TYPE_MF</th>\n",
       "      <th>CALL_TYPE_MO</th>\n",
       "      <th>ROAMING_TYPE_INB</th>\n",
       "      <th>ROAMING_TYPE_OUT</th>\n",
       "      <th>DN_IN_NOA_1</th>\n",
       "      <th>DN_IN_NOA_2</th>\n",
       "      <th>DN_IN_NOA_4</th>\n",
       "      <th>RAF_NORMALIZE_TYPE_1</th>\n",
       "      <th>RAF_NORMALIZE_TYPE_2</th>\n",
       "      <th>RAF_NORMALIZE_TYPE_3</th>\n",
       "      <th>RAF_NORMALIZE_TYPE_4</th>\n",
       "    </tr>\n",
       "  </thead>\n",
       "  <tbody>\n",
       "    <tr>\n",
       "      <th>0</th>\n",
       "      <td>145979</td>\n",
       "      <td>115112</td>\n",
       "      <td>164</td>\n",
       "      <td>175</td>\n",
       "      <td>58</td>\n",
       "      <td>39</td>\n",
       "      <td>49173</td>\n",
       "      <td>41789310205</td>\n",
       "      <td>4917007525</td>\n",
       "      <td>52268</td>\n",
       "      <td>2</td>\n",
       "      <td>0</td>\n",
       "      <td>6</td>\n",
       "      <td>0</td>\n",
       "      <td>12</td>\n",
       "      <td>0</td>\n",
       "      <td>1</td>\n",
       "      <td>0</td>\n",
       "      <td>1</td>\n",
       "      <td>0</td>\n",
       "      <td>0</td>\n",
       "      <td>1</td>\n",
       "      <td>1</td>\n",
       "      <td>0</td>\n",
       "      <td>0</td>\n",
       "      <td>0</td>\n",
       "    </tr>\n",
       "    <tr>\n",
       "      <th>1</th>\n",
       "      <td>7054</td>\n",
       "      <td>3843</td>\n",
       "      <td>164</td>\n",
       "      <td>105</td>\n",
       "      <td>58</td>\n",
       "      <td>55</td>\n",
       "      <td>49171</td>\n",
       "      <td>48602007070</td>\n",
       "      <td>4917007529</td>\n",
       "      <td>193031</td>\n",
       "      <td>2</td>\n",
       "      <td>0</td>\n",
       "      <td>6</td>\n",
       "      <td>0</td>\n",
       "      <td>12</td>\n",
       "      <td>0</td>\n",
       "      <td>1</td>\n",
       "      <td>0</td>\n",
       "      <td>1</td>\n",
       "      <td>0</td>\n",
       "      <td>0</td>\n",
       "      <td>1</td>\n",
       "      <td>1</td>\n",
       "      <td>0</td>\n",
       "      <td>0</td>\n",
       "      <td>0</td>\n",
       "    </tr>\n",
       "    <tr>\n",
       "      <th>2</th>\n",
       "      <td>51456</td>\n",
       "      <td>23126</td>\n",
       "      <td>164</td>\n",
       "      <td>182</td>\n",
       "      <td>58</td>\n",
       "      <td>296</td>\n",
       "      <td>49170</td>\n",
       "      <td>30971400000</td>\n",
       "      <td>4917007531</td>\n",
       "      <td>79852</td>\n",
       "      <td>2</td>\n",
       "      <td>1</td>\n",
       "      <td>7</td>\n",
       "      <td>0</td>\n",
       "      <td>12</td>\n",
       "      <td>0</td>\n",
       "      <td>1</td>\n",
       "      <td>0</td>\n",
       "      <td>1</td>\n",
       "      <td>0</td>\n",
       "      <td>0</td>\n",
       "      <td>1</td>\n",
       "      <td>1</td>\n",
       "      <td>0</td>\n",
       "      <td>0</td>\n",
       "      <td>0</td>\n",
       "    </tr>\n",
       "    <tr>\n",
       "      <th>3</th>\n",
       "      <td>1629</td>\n",
       "      <td>967</td>\n",
       "      <td>164</td>\n",
       "      <td>101</td>\n",
       "      <td>58</td>\n",
       "      <td>324</td>\n",
       "      <td>49151</td>\n",
       "      <td>385980110</td>\n",
       "      <td>4917007531</td>\n",
       "      <td>84078</td>\n",
       "      <td>2</td>\n",
       "      <td>0</td>\n",
       "      <td>6</td>\n",
       "      <td>0</td>\n",
       "      <td>13</td>\n",
       "      <td>0</td>\n",
       "      <td>1</td>\n",
       "      <td>0</td>\n",
       "      <td>1</td>\n",
       "      <td>0</td>\n",
       "      <td>0</td>\n",
       "      <td>1</td>\n",
       "      <td>1</td>\n",
       "      <td>0</td>\n",
       "      <td>0</td>\n",
       "      <td>0</td>\n",
       "    </tr>\n",
       "    <tr>\n",
       "      <th>4</th>\n",
       "      <td>475</td>\n",
       "      <td>15681</td>\n",
       "      <td>105</td>\n",
       "      <td>164</td>\n",
       "      <td>55</td>\n",
       "      <td>58</td>\n",
       "      <td>48510</td>\n",
       "      <td>491700970000</td>\n",
       "      <td>491600980760</td>\n",
       "      <td>89585</td>\n",
       "      <td>2</td>\n",
       "      <td>1</td>\n",
       "      <td>7</td>\n",
       "      <td>0</td>\n",
       "      <td>11</td>\n",
       "      <td>0</td>\n",
       "      <td>1</td>\n",
       "      <td>1</td>\n",
       "      <td>0</td>\n",
       "      <td>0</td>\n",
       "      <td>0</td>\n",
       "      <td>1</td>\n",
       "      <td>1</td>\n",
       "      <td>0</td>\n",
       "      <td>0</td>\n",
       "      <td>0</td>\n",
       "    </tr>\n",
       "  </tbody>\n",
       "</table>\n",
       "</div>"
      ],
      "text/plain": [
       "     IMSI  MSISDN  HOME_COUNTRY_ID  VISITED_COUNTRY_ID  HOME_NETWORK_ID  \\\n",
       "0  145979  115112              164                 175               58   \n",
       "1    7054    3843              164                 105               58   \n",
       "2   51456   23126              164                 182               58   \n",
       "3    1629     967              164                 101               58   \n",
       "4     475   15681              105                 164               55   \n",
       "\n",
       "   VISITED_NETWORK_ID  DN_ORIG  CURRENT_MSC_GT  SCCP_CALLED_GT  \\\n",
       "0                  39    49173     41789310205      4917007525   \n",
       "1                  55    49171     48602007070      4917007529   \n",
       "2                 296    49170     30971400000      4917007531   \n",
       "3                 324    49151       385980110      4917007531   \n",
       "4                  58    48510    491700970000    491600980760   \n",
       "\n",
       "   EXTERNAL_CALL_REF_NUM  CAMEL_PHASE  RAF_STATUS  SESSION_START_HOUR  \\\n",
       "0                  52268            2           0                   6   \n",
       "1                 193031            2           0                   6   \n",
       "2                  79852            2           1                   7   \n",
       "3                  84078            2           0                   6   \n",
       "4                  89585            2           1                   7   \n",
       "\n",
       "   SESSION_START_WE  DN_ORIG_LEN  CALL_TYPE_MF  CALL_TYPE_MO  \\\n",
       "0                 0           12             0             1   \n",
       "1                 0           12             0             1   \n",
       "2                 0           12             0             1   \n",
       "3                 0           13             0             1   \n",
       "4                 0           11             0             1   \n",
       "\n",
       "   ROAMING_TYPE_INB  ROAMING_TYPE_OUT  DN_IN_NOA_1  DN_IN_NOA_2  DN_IN_NOA_4  \\\n",
       "0                 0                 1            0            0            1   \n",
       "1                 0                 1            0            0            1   \n",
       "2                 0                 1            0            0            1   \n",
       "3                 0                 1            0            0            1   \n",
       "4                 1                 0            0            0            1   \n",
       "\n",
       "   RAF_NORMALIZE_TYPE_1  RAF_NORMALIZE_TYPE_2  RAF_NORMALIZE_TYPE_3  \\\n",
       "0                     1                     0                     0   \n",
       "1                     1                     0                     0   \n",
       "2                     1                     0                     0   \n",
       "3                     1                     0                     0   \n",
       "4                     1                     0                     0   \n",
       "\n",
       "   RAF_NORMALIZE_TYPE_4  \n",
       "0                     0  \n",
       "1                     0  \n",
       "2                     0  \n",
       "3                     0  \n",
       "4                     0  "
      ]
     },
     "execution_count": 244,
     "metadata": {},
     "output_type": "execute_result"
    }
   ],
   "source": [
    "df.head()"
   ]
  },
  {
   "cell_type": "markdown",
   "metadata": {},
   "source": [
    "*******************************************************************************************************************************"
   ]
  },
  {
   "cell_type": "markdown",
   "metadata": {},
   "source": [
    "## Data Sience Model"
   ]
  },
  {
   "cell_type": "code",
   "execution_count": 76,
   "metadata": {},
   "outputs": [],
   "source": [
    "from sklearn.utils import resample\n",
    "from sklearn.linear_model import LogisticRegression\n",
    "import numpy as np\n",
    "import matplotlib.pyplot as plt\n",
    "import pandas as pd\n",
    "from sklearn.model_selection import train_test_split\n",
    "from sklearn.metrics import confusion_matrix, classification_report\n",
    "from sklearn.metrics import accuracy_score\n",
    "from sklearn.tree import DecisionTreeClassifier, export_graphviz\n",
    "from sklearn.neighbors import KNeighborsClassifier\n",
    "from sklearn.model_selection import train_test_split as split\n",
    "from sklearn.metrics import confusion_matrix, classification_report\n",
    "from sklearn.metrics import accuracy_score, pairwise_distances\n",
    "from sklearn.preprocessing import StandardScaler, MinMaxScaler\n",
    "from sklearn.preprocessing import MaxAbsScaler, LabelEncoder\n",
    "from pandas.tools.plotting import scatter_matrix\n",
    "from sklearn.ensemble import RandomForestClassifier\n",
    "from sklearn.linear_model import LogisticRegression\n",
    "from sklearn.metrics import confusion_matrix, classification_report\n",
    "from sklearn.metrics import accuracy_score\n",
    "from sklearn.metrics import roc_curve, roc_auc_score\n",
    "import warnings\n",
    "pd.set_option('display.max_columns', None)\n",
    "%matplotlib inline\n",
    "#import warnings\n",
    "#warnings.filterwarnings('ignore')\n",
    "import pydotplus\n",
    "from sklearn import tree"
   ]
  },
  {
   "cell_type": "code",
   "execution_count": 77,
   "metadata": {},
   "outputs": [],
   "source": [
    "df = pd.read_csv('dfMoco.csv')"
   ]
  },
  {
   "cell_type": "code",
   "execution_count": 78,
   "metadata": {},
   "outputs": [
    {
     "data": {
      "text/html": [
       "<div>\n",
       "<style scoped>\n",
       "    .dataframe tbody tr th:only-of-type {\n",
       "        vertical-align: middle;\n",
       "    }\n",
       "\n",
       "    .dataframe tbody tr th {\n",
       "        vertical-align: top;\n",
       "    }\n",
       "\n",
       "    .dataframe thead th {\n",
       "        text-align: right;\n",
       "    }\n",
       "</style>\n",
       "<table border=\"1\" class=\"dataframe\">\n",
       "  <thead>\n",
       "    <tr style=\"text-align: right;\">\n",
       "      <th></th>\n",
       "      <th>Unnamed: 0</th>\n",
       "      <th>IMSI</th>\n",
       "      <th>MSISDN</th>\n",
       "      <th>HOME_COUNTRY_ID</th>\n",
       "      <th>VISITED_COUNTRY_ID</th>\n",
       "      <th>HOME_NETWORK_ID</th>\n",
       "      <th>VISITED_NETWORK_ID</th>\n",
       "      <th>DN_ORIG</th>\n",
       "      <th>CURRENT_MSC_GT</th>\n",
       "      <th>SCCP_CALLED_GT</th>\n",
       "      <th>EXTERNAL_CALL_REF_NUM</th>\n",
       "      <th>CAMEL_PHASE</th>\n",
       "      <th>RAF_STATUS</th>\n",
       "      <th>SESSION_START_HOUR</th>\n",
       "      <th>SESSION_START_WE</th>\n",
       "      <th>DN_ORIG_LEN</th>\n",
       "      <th>NUM_OF_TENTATIVE</th>\n",
       "      <th>CALL_TYPE_MF</th>\n",
       "      <th>CALL_TYPE_MO</th>\n",
       "      <th>ROAMING_TYPE_INB</th>\n",
       "      <th>ROAMING_TYPE_OUT</th>\n",
       "      <th>DN_IN_NOA_1</th>\n",
       "      <th>DN_IN_NOA_2</th>\n",
       "      <th>DN_IN_NOA_4</th>\n",
       "      <th>RAF_NORMALIZE_TYPE_1</th>\n",
       "      <th>RAF_NORMALIZE_TYPE_2</th>\n",
       "      <th>RAF_NORMALIZE_TYPE_3</th>\n",
       "      <th>RAF_NORMALIZE_TYPE_4</th>\n",
       "    </tr>\n",
       "  </thead>\n",
       "  <tbody>\n",
       "    <tr>\n",
       "      <th>0</th>\n",
       "      <td>0</td>\n",
       "      <td>145979</td>\n",
       "      <td>115112</td>\n",
       "      <td>164</td>\n",
       "      <td>175</td>\n",
       "      <td>58</td>\n",
       "      <td>39</td>\n",
       "      <td>49173</td>\n",
       "      <td>41789310205</td>\n",
       "      <td>4917007525</td>\n",
       "      <td>52268</td>\n",
       "      <td>2</td>\n",
       "      <td>0</td>\n",
       "      <td>6</td>\n",
       "      <td>0</td>\n",
       "      <td>12</td>\n",
       "      <td>4</td>\n",
       "      <td>0</td>\n",
       "      <td>1</td>\n",
       "      <td>0</td>\n",
       "      <td>1</td>\n",
       "      <td>0</td>\n",
       "      <td>0</td>\n",
       "      <td>1</td>\n",
       "      <td>1</td>\n",
       "      <td>0</td>\n",
       "      <td>0</td>\n",
       "      <td>0</td>\n",
       "    </tr>\n",
       "    <tr>\n",
       "      <th>1</th>\n",
       "      <td>1</td>\n",
       "      <td>7054</td>\n",
       "      <td>3843</td>\n",
       "      <td>164</td>\n",
       "      <td>105</td>\n",
       "      <td>58</td>\n",
       "      <td>55</td>\n",
       "      <td>49171</td>\n",
       "      <td>48602007070</td>\n",
       "      <td>4917007529</td>\n",
       "      <td>193031</td>\n",
       "      <td>2</td>\n",
       "      <td>0</td>\n",
       "      <td>6</td>\n",
       "      <td>0</td>\n",
       "      <td>12</td>\n",
       "      <td>1</td>\n",
       "      <td>0</td>\n",
       "      <td>1</td>\n",
       "      <td>0</td>\n",
       "      <td>1</td>\n",
       "      <td>0</td>\n",
       "      <td>0</td>\n",
       "      <td>1</td>\n",
       "      <td>1</td>\n",
       "      <td>0</td>\n",
       "      <td>0</td>\n",
       "      <td>0</td>\n",
       "    </tr>\n",
       "    <tr>\n",
       "      <th>2</th>\n",
       "      <td>2</td>\n",
       "      <td>51456</td>\n",
       "      <td>23126</td>\n",
       "      <td>164</td>\n",
       "      <td>182</td>\n",
       "      <td>58</td>\n",
       "      <td>296</td>\n",
       "      <td>49170</td>\n",
       "      <td>30971400000</td>\n",
       "      <td>4917007531</td>\n",
       "      <td>79852</td>\n",
       "      <td>2</td>\n",
       "      <td>1</td>\n",
       "      <td>7</td>\n",
       "      <td>0</td>\n",
       "      <td>12</td>\n",
       "      <td>1</td>\n",
       "      <td>0</td>\n",
       "      <td>1</td>\n",
       "      <td>0</td>\n",
       "      <td>1</td>\n",
       "      <td>0</td>\n",
       "      <td>0</td>\n",
       "      <td>1</td>\n",
       "      <td>1</td>\n",
       "      <td>0</td>\n",
       "      <td>0</td>\n",
       "      <td>0</td>\n",
       "    </tr>\n",
       "    <tr>\n",
       "      <th>3</th>\n",
       "      <td>3</td>\n",
       "      <td>1629</td>\n",
       "      <td>967</td>\n",
       "      <td>164</td>\n",
       "      <td>101</td>\n",
       "      <td>58</td>\n",
       "      <td>324</td>\n",
       "      <td>49151</td>\n",
       "      <td>385980110</td>\n",
       "      <td>4917007531</td>\n",
       "      <td>84078</td>\n",
       "      <td>2</td>\n",
       "      <td>0</td>\n",
       "      <td>6</td>\n",
       "      <td>0</td>\n",
       "      <td>13</td>\n",
       "      <td>2</td>\n",
       "      <td>0</td>\n",
       "      <td>1</td>\n",
       "      <td>0</td>\n",
       "      <td>1</td>\n",
       "      <td>0</td>\n",
       "      <td>0</td>\n",
       "      <td>1</td>\n",
       "      <td>1</td>\n",
       "      <td>0</td>\n",
       "      <td>0</td>\n",
       "      <td>0</td>\n",
       "    </tr>\n",
       "    <tr>\n",
       "      <th>4</th>\n",
       "      <td>4</td>\n",
       "      <td>475</td>\n",
       "      <td>15681</td>\n",
       "      <td>105</td>\n",
       "      <td>164</td>\n",
       "      <td>55</td>\n",
       "      <td>58</td>\n",
       "      <td>48510</td>\n",
       "      <td>491700970000</td>\n",
       "      <td>491600980760</td>\n",
       "      <td>89585</td>\n",
       "      <td>2</td>\n",
       "      <td>1</td>\n",
       "      <td>7</td>\n",
       "      <td>0</td>\n",
       "      <td>11</td>\n",
       "      <td>6</td>\n",
       "      <td>0</td>\n",
       "      <td>1</td>\n",
       "      <td>1</td>\n",
       "      <td>0</td>\n",
       "      <td>0</td>\n",
       "      <td>0</td>\n",
       "      <td>1</td>\n",
       "      <td>1</td>\n",
       "      <td>0</td>\n",
       "      <td>0</td>\n",
       "      <td>0</td>\n",
       "    </tr>\n",
       "  </tbody>\n",
       "</table>\n",
       "</div>"
      ],
      "text/plain": [
       "   Unnamed: 0    IMSI  MSISDN  HOME_COUNTRY_ID  VISITED_COUNTRY_ID  \\\n",
       "0           0  145979  115112              164                 175   \n",
       "1           1    7054    3843              164                 105   \n",
       "2           2   51456   23126              164                 182   \n",
       "3           3    1629     967              164                 101   \n",
       "4           4     475   15681              105                 164   \n",
       "\n",
       "   HOME_NETWORK_ID  VISITED_NETWORK_ID  DN_ORIG  CURRENT_MSC_GT  \\\n",
       "0               58                  39    49173     41789310205   \n",
       "1               58                  55    49171     48602007070   \n",
       "2               58                 296    49170     30971400000   \n",
       "3               58                 324    49151       385980110   \n",
       "4               55                  58    48510    491700970000   \n",
       "\n",
       "   SCCP_CALLED_GT  EXTERNAL_CALL_REF_NUM  CAMEL_PHASE  RAF_STATUS  \\\n",
       "0      4917007525                  52268            2           0   \n",
       "1      4917007529                 193031            2           0   \n",
       "2      4917007531                  79852            2           1   \n",
       "3      4917007531                  84078            2           0   \n",
       "4    491600980760                  89585            2           1   \n",
       "\n",
       "   SESSION_START_HOUR  SESSION_START_WE  DN_ORIG_LEN  NUM_OF_TENTATIVE  \\\n",
       "0                   6                 0           12                 4   \n",
       "1                   6                 0           12                 1   \n",
       "2                   7                 0           12                 1   \n",
       "3                   6                 0           13                 2   \n",
       "4                   7                 0           11                 6   \n",
       "\n",
       "   CALL_TYPE_MF  CALL_TYPE_MO  ROAMING_TYPE_INB  ROAMING_TYPE_OUT  \\\n",
       "0             0             1                 0                 1   \n",
       "1             0             1                 0                 1   \n",
       "2             0             1                 0                 1   \n",
       "3             0             1                 0                 1   \n",
       "4             0             1                 1                 0   \n",
       "\n",
       "   DN_IN_NOA_1  DN_IN_NOA_2  DN_IN_NOA_4  RAF_NORMALIZE_TYPE_1  \\\n",
       "0            0            0            1                     1   \n",
       "1            0            0            1                     1   \n",
       "2            0            0            1                     1   \n",
       "3            0            0            1                     1   \n",
       "4            0            0            1                     1   \n",
       "\n",
       "   RAF_NORMALIZE_TYPE_2  RAF_NORMALIZE_TYPE_3  RAF_NORMALIZE_TYPE_4  \n",
       "0                     0                     0                     0  \n",
       "1                     0                     0                     0  \n",
       "2                     0                     0                     0  \n",
       "3                     0                     0                     0  \n",
       "4                     0                     0                     0  "
      ]
     },
     "execution_count": 78,
     "metadata": {},
     "output_type": "execute_result"
    }
   ],
   "source": [
    "df.head()"
   ]
  },
  {
   "cell_type": "code",
   "execution_count": 79,
   "metadata": {},
   "outputs": [],
   "source": [
    "#For Random forest (best model)\n",
    "df = df.drop(['Unnamed: 0','IMSI','MSISDN'], axis=1)\n",
    "\n",
    "#For logistic Regression (use for pratice)\n",
    "#df = df.drop('Unnamed: 0', axis=1)"
   ]
  },
  {
   "cell_type": "code",
   "execution_count": 80,
   "metadata": {},
   "outputs": [],
   "source": [
    "def replaceRafStatusValue(value):\n",
    "    if value == 0 or value == 1 :\n",
    "        return 0\n",
    "    else :\n",
    "        return 1"
   ]
  },
  {
   "cell_type": "code",
   "execution_count": 81,
   "metadata": {},
   "outputs": [],
   "source": [
    "df['RAF_STATUS'] = df['RAF_STATUS'].apply(replaceRafStatusValue)"
   ]
  },
  {
   "cell_type": "code",
   "execution_count": 82,
   "metadata": {},
   "outputs": [
    {
     "data": {
      "text/plain": [
       "0    286225\n",
       "1      5380\n",
       "Name: RAF_STATUS, dtype: int64"
      ]
     },
     "execution_count": 82,
     "metadata": {},
     "output_type": "execute_result"
    }
   ],
   "source": [
    "df['RAF_STATUS'].value_counts()"
   ]
  },
  {
   "cell_type": "code",
   "execution_count": 83,
   "metadata": {},
   "outputs": [
    {
     "data": {
      "text/plain": [
       "(291605, 25)"
      ]
     },
     "execution_count": 83,
     "metadata": {},
     "output_type": "execute_result"
    }
   ],
   "source": [
    "df.shape"
   ]
  },
  {
   "cell_type": "markdown",
   "metadata": {},
   "source": [
    "### Imbalanced classes"
   ]
  },
  {
   "cell_type": "markdown",
   "metadata": {},
   "source": [
    "We are facing to a problem known as imbalanced classes , the class we want to predict is , for example here , only 2% of our data.\n",
    "This problem is very frequent in problems of fraud detection and chrun prediction.\n",
    "Some methods :\n",
    "* Down Sampling\n",
    "* Create Synthetic Samples (Data Augmentation)\n",
    "* Penalizing\n",
    "\n",
    "The better way to understand the need of those methods is to run a model of machine learning and to see the outpout in our case for each sample he will told that it's NOT a fraud and the model will be right in 98% of the case .. good accuracy! But it's not what we want ..."
   ]
  },
  {
   "cell_type": "markdown",
   "metadata": {},
   "source": [
    "#### Stratify - split with same distribution"
   ]
  },
  {
   "cell_type": "code",
   "execution_count": 84,
   "metadata": {},
   "outputs": [],
   "source": [
    "X = df.drop('RAF_STATUS', axis=1)\n",
    "y = df['RAF_STATUS']\n",
    "X_train, X_validate, y_train, y_validate = train_test_split(X, y,  test_size=0.3, stratify=y, random_state = 22)"
   ]
  },
  {
   "cell_type": "code",
   "execution_count": 85,
   "metadata": {},
   "outputs": [],
   "source": [
    "X_train = X_train.merge(y_train.to_frame(), left_index=True, right_index=True)"
   ]
  },
  {
   "cell_type": "code",
   "execution_count": 86,
   "metadata": {},
   "outputs": [
    {
     "data": {
      "text/plain": [
       "(204123, 25)"
      ]
     },
     "execution_count": 86,
     "metadata": {},
     "output_type": "execute_result"
    }
   ],
   "source": [
    "X_train.shape"
   ]
  },
  {
   "cell_type": "code",
   "execution_count": 87,
   "metadata": {},
   "outputs": [
    {
     "data": {
      "text/plain": [
       "0    200357\n",
       "1      3766\n",
       "Name: RAF_STATUS, dtype: int64"
      ]
     },
     "execution_count": 87,
     "metadata": {},
     "output_type": "execute_result"
    }
   ],
   "source": [
    "X_train['RAF_STATUS'].value_counts()"
   ]
  },
  {
   "cell_type": "markdown",
   "metadata": {},
   "source": [
    "#### DownSampling majority class"
   ]
  },
  {
   "cell_type": "code",
   "execution_count": 88,
   "metadata": {},
   "outputs": [
    {
     "data": {
      "text/plain": [
       "0    10000\n",
       "1     3766\n",
       "Name: RAF_STATUS, dtype: int64"
      ]
     },
     "execution_count": 88,
     "metadata": {},
     "output_type": "execute_result"
    }
   ],
   "source": [
    "# Separate majority and minority classes\n",
    "df_majority = X_train[X_train.RAF_STATUS==0]\n",
    "df_minority = X_train[X_train.RAF_STATUS==1]\n",
    "\n",
    "# Downsample majority class\n",
    "df_majority_downsampled = resample(df_majority, \n",
    "                                 replace=False,    # sample without replacement\n",
    "                                 n_samples=10000,     # to match minority class\n",
    "                                 random_state=123) # reproducible results\n",
    " \n",
    "# Combine minority class with downsampled majority class\n",
    "df_downsampled = pd.concat([df_majority_downsampled, df_minority])\n",
    " \n",
    "# Display new class counts\n",
    "df_downsampled.RAF_STATUS.value_counts()\n"
   ]
  },
  {
   "cell_type": "markdown",
   "metadata": {},
   "source": [
    "#### Split Into Training and Testing Sets"
   ]
  },
  {
   "cell_type": "code",
   "execution_count": 89,
   "metadata": {},
   "outputs": [],
   "source": [
    "df_train, df_test = split(df_downsampled, test_size=0.3, random_state=14)"
   ]
  },
  {
   "cell_type": "code",
   "execution_count": 90,
   "metadata": {},
   "outputs": [],
   "source": [
    "X_train_train = df_train.drop('RAF_STATUS', axis=1)\n",
    "y_train_train = df_train['RAF_STATUS']\n",
    "X_train_test = df_test.drop('RAF_STATUS', axis=1)\n",
    "y_train_test = df_test['RAF_STATUS']"
   ]
  },
  {
   "cell_type": "markdown",
   "metadata": {},
   "source": [
    "## MODELS"
   ]
  },
  {
   "cell_type": "markdown",
   "metadata": {},
   "source": [
    "### Logistic Regression"
   ]
  },
  {
   "cell_type": "code",
   "execution_count": 255,
   "metadata": {},
   "outputs": [
    {
     "name": "stdout",
     "output_type": "stream",
     "text": [
      "[0 1]\n",
      "0.6215857359635811\n"
     ]
    }
   ],
   "source": [
    "# Train model\n",
    "clf_2 = LogisticRegression().fit(X_train_train, y_train_train)\n",
    " \n",
    "# Predict on test set\n",
    "pred_y_2 = clf_2.predict(X_train_train)\n",
    " \n",
    "# Is our model still predicting just one class?\n",
    "print( np.unique( pred_y_2 ) )\n",
    "# [0 1]\n",
    " \n",
    "# How's our accuracy?\n",
    "print( accuracy_score(y_train_train, pred_y_2))"
   ]
  },
  {
   "cell_type": "code",
   "execution_count": 256,
   "metadata": {},
   "outputs": [],
   "source": [
    "cm = confusion_matrix(y_true=y_train_train,\n",
    "                      y_pred=pred_y_2)"
   ]
  },
  {
   "cell_type": "code",
   "execution_count": 257,
   "metadata": {},
   "outputs": [
    {
     "data": {
      "text/html": [
       "<div>\n",
       "<style scoped>\n",
       "    .dataframe tbody tr th:only-of-type {\n",
       "        vertical-align: middle;\n",
       "    }\n",
       "\n",
       "    .dataframe tbody tr th {\n",
       "        vertical-align: top;\n",
       "    }\n",
       "\n",
       "    .dataframe thead th {\n",
       "        text-align: right;\n",
       "    }\n",
       "</style>\n",
       "<table border=\"1\" class=\"dataframe\">\n",
       "  <thead>\n",
       "    <tr style=\"text-align: right;\">\n",
       "      <th></th>\n",
       "      <th>0</th>\n",
       "      <th>1</th>\n",
       "    </tr>\n",
       "  </thead>\n",
       "  <tbody>\n",
       "    <tr>\n",
       "      <th>0</th>\n",
       "      <td>1881</td>\n",
       "      <td>745</td>\n",
       "    </tr>\n",
       "    <tr>\n",
       "      <th>1</th>\n",
       "      <td>1250</td>\n",
       "      <td>1396</td>\n",
       "    </tr>\n",
       "  </tbody>\n",
       "</table>\n",
       "</div>"
      ],
      "text/plain": [
       "      0     1\n",
       "0  1881   745\n",
       "1  1250  1396"
      ]
     },
     "execution_count": 257,
     "metadata": {},
     "output_type": "execute_result"
    }
   ],
   "source": [
    "pd.DataFrame(cm, \n",
    "             index=clf_2.classes_, \n",
    "             columns=clf_2.classes_)"
   ]
  },
  {
   "cell_type": "code",
   "execution_count": 258,
   "metadata": {},
   "outputs": [
    {
     "name": "stdout",
     "output_type": "stream",
     "text": [
      "acc : 0.61814159292\n",
      "\n",
      "\n",
      "     0    1\n",
      "0  822  318\n",
      "1  545  575\n",
      "\n",
      "\n",
      "              precision    recall  f1-score   support\n",
      "\n",
      "           0       0.60      0.72      0.66      1140\n",
      "           1       0.64      0.51      0.57      1120\n",
      "\n",
      "   micro avg       0.62      0.62      0.62      2260\n",
      "   macro avg       0.62      0.62      0.61      2260\n",
      "weighted avg       0.62      0.62      0.61      2260\n",
      "\n"
     ]
    }
   ],
   "source": [
    "y_pred=clf_2.predict(X_train_test)\n",
    "print(\"acc : {}\".format(accuracy_score(y_train_test, y_pred)))\n",
    "print(\"\\n\")\n",
    "print(pd.DataFrame(confusion_matrix(y_train_test, y_pred)))\n",
    "print(\"\\n\")\n",
    "print(classification_report(y_train_test, y_pred))"
   ]
  },
  {
   "cell_type": "code",
   "execution_count": 259,
   "metadata": {},
   "outputs": [
    {
     "name": "stdout",
     "output_type": "stream",
     "text": [
      "[[0.50334862 0.49665138]\n",
      " [0.9971408  0.0028592 ]\n",
      " [0.50430148 0.49569852]\n",
      " [0.50174585 0.49825415]\n",
      " [0.36292171 0.63707829]\n",
      " [0.9971408  0.0028592 ]\n",
      " [0.50394325 0.49605675]\n",
      " [0.37752966 0.62247034]]\n"
     ]
    },
    {
     "data": {
      "text/plain": [
       "(2260L, 2L)"
      ]
     },
     "execution_count": 259,
     "metadata": {},
     "output_type": "execute_result"
    }
   ],
   "source": [
    "scores = clf_2.predict_proba(X_train_test)\n",
    "print(scores[::300])\n",
    "scores.shape"
   ]
  },
  {
   "cell_type": "code",
   "execution_count": 264,
   "metadata": {},
   "outputs": [
    {
     "data": {
      "image/png": "[encoded data removed]",
      "text/plain": [
       "<matplotlib.figure.Figure at 0x12596080>"
      ]
     },
     "metadata": {},
     "output_type": "display_data"
    }
   ],
   "source": [
    "fpr, tpr, thresholds = roc_curve(y_train_test.values, scores[:,1])\n",
    "plt.plot(fpr, tpr)\n",
    "plt.title('ROC')\n",
    "plt.xlabel('FPR (False Positive Rate = 1-specificity)')\n",
    "plt.ylabel('TPR (True Positive Rate = sensitivity)')\n",
    "plt.axvline(x=0.26, color='r', linestyle='--',lw=1)\n",
    "plt.axvline(x=0.395, color='g', linestyle='--',lw=1)\n",
    "plt.axvline(x=0.52, color='r', linestyle='--',lw=1)\n",
    "plt.title('ROC = '+str(roc_auc_score(y_train_test.values, scores[:,1])));"
   ]
  },
  {
   "cell_type": "code",
   "execution_count": 304,
   "metadata": {},
   "outputs": [
    {
     "name": "stdout",
     "output_type": "stream",
     "text": [
      "('acc=', 0.647787610619469)\n",
      "('tpr=', 0.6901785714285714)\n",
      "('fpr=', 0.393859649122807)\n"
     ]
    },
    {
     "data": {
      "text/html": [
       "<div>\n",
       "<style scoped>\n",
       "    .dataframe tbody tr th:only-of-type {\n",
       "        vertical-align: middle;\n",
       "    }\n",
       "\n",
       "    .dataframe tbody tr th {\n",
       "        vertical-align: top;\n",
       "    }\n",
       "\n",
       "    .dataframe thead th {\n",
       "        text-align: right;\n",
       "    }\n",
       "</style>\n",
       "<table border=\"1\" class=\"dataframe\">\n",
       "  <thead>\n",
       "    <tr style=\"text-align: right;\">\n",
       "      <th></th>\n",
       "      <th>No</th>\n",
       "      <th>Yes</th>\n",
       "    </tr>\n",
       "  </thead>\n",
       "  <tbody>\n",
       "    <tr>\n",
       "      <th>No</th>\n",
       "      <td>691</td>\n",
       "      <td>449</td>\n",
       "    </tr>\n",
       "    <tr>\n",
       "      <th>Yes</th>\n",
       "      <td>347</td>\n",
       "      <td>773</td>\n",
       "    </tr>\n",
       "  </tbody>\n",
       "</table>\n",
       "</div>"
      ],
      "text/plain": [
       "      No  Yes\n",
       "No   691  449\n",
       "Yes  347  773"
      ]
     },
     "execution_count": 304,
     "metadata": {},
     "output_type": "execute_result"
    }
   ],
   "source": [
    "a = np.where(scores[:,1] > 0.49605, 1, 0)\n",
    "print('acc=', accuracy_score(y_train_test, a))\n",
    "cm = confusion_matrix(y_train_test, a)\n",
    "print('tpr=', float(cm[1][1])/float(cm[1][0]+cm[1][1]))\n",
    "print('fpr=', float(cm[0][1])/float((cm[0][0]+cm[0][1])))\n",
    "classes=['No', 'Yes']\n",
    "pd.DataFrame(cm, index=classes, columns=classes)"
   ]
  },
  {
   "cell_type": "markdown",
   "metadata": {},
   "source": [
    "#### Validate the model"
   ]
  },
  {
   "cell_type": "code",
   "execution_count": 306,
   "metadata": {},
   "outputs": [
    {
     "name": "stdout",
     "output_type": "stream",
     "text": [
      "('acc=', 0.5954710683340573)\n",
      "('tpr=', 0.6771995043370508)\n",
      "('fpr=', 0.4060651232123725)\n"
     ]
    },
    {
     "data": {
      "text/html": [
       "<div>\n",
       "<style scoped>\n",
       "    .dataframe tbody tr th:only-of-type {\n",
       "        vertical-align: middle;\n",
       "    }\n",
       "\n",
       "    .dataframe tbody tr th {\n",
       "        vertical-align: top;\n",
       "    }\n",
       "\n",
       "    .dataframe thead th {\n",
       "        text-align: right;\n",
       "    }\n",
       "</style>\n",
       "<table border=\"1\" class=\"dataframe\">\n",
       "  <thead>\n",
       "    <tr style=\"text-align: right;\">\n",
       "      <th></th>\n",
       "      <th>No</th>\n",
       "      <th>Yes</th>\n",
       "    </tr>\n",
       "  </thead>\n",
       "  <tbody>\n",
       "    <tr>\n",
       "      <th>No</th>\n",
       "      <td>51000</td>\n",
       "      <td>34868</td>\n",
       "    </tr>\n",
       "    <tr>\n",
       "      <th>Yes</th>\n",
       "      <td>521</td>\n",
       "      <td>1093</td>\n",
       "    </tr>\n",
       "  </tbody>\n",
       "</table>\n",
       "</div>"
      ],
      "text/plain": [
       "        No    Yes\n",
       "No   51000  34868\n",
       "Yes    521   1093"
      ]
     },
     "execution_count": 306,
     "metadata": {},
     "output_type": "execute_result"
    }
   ],
   "source": [
    "scores_validate = clf_2.predict_proba(X_validate)\n",
    "a = np.where(scores_validate[:,1] > 0.49605, 1, 0)\n",
    "print('acc=', accuracy_score(y_validate, a))\n",
    "cm = confusion_matrix(y_validate, a)\n",
    "print('tpr=', float(cm[1][1])/float(cm[1][0]+cm[1][1]))\n",
    "print('fpr=', float(cm[0][1])/float((cm[0][0]+cm[0][1])))\n",
    "classes=['No', 'Yes']\n",
    "pd.DataFrame(cm, index=classes, columns=classes)"
   ]
  },
  {
   "cell_type": "markdown",
   "metadata": {},
   "source": [
    "#### Logistic Regression Conclusion"
   ]
  },
  {
   "cell_type": "markdown",
   "metadata": {},
   "source": [
    "This model didn't give us satisfactory results , we can see that to \"catch\" fraud we need to define a lot of non fraud in fraud predict .. \n",
    "Let's try another model stronger for categorical data ( like our data )..."
   ]
  },
  {
   "cell_type": "markdown",
   "metadata": {},
   "source": [
    "### Random Forest"
   ]
  },
  {
   "cell_type": "code",
   "execution_count": 91,
   "metadata": {},
   "outputs": [],
   "source": [
    "clf = RandomForestClassifier()"
   ]
  },
  {
   "cell_type": "markdown",
   "metadata": {},
   "source": [
    "#### Cross Validation"
   ]
  },
  {
   "cell_type": "code",
   "execution_count": 100,
   "metadata": {},
   "outputs": [
    {
     "data": {
      "image/png": "[encoded data removed]",
      "text/plain": [
       "<matplotlib.figure.Figure at 0x12a99400>"
      ]
     },
     "metadata": {},
     "output_type": "display_data"
    }
   ],
   "source": [
    "import matplotlib.pyplot as plt\n",
    "import numpy as np\n",
    "\n",
    "from sklearn.datasets import load_digits\n",
    "\n",
    "from sklearn.model_selection import validation_curve\n",
    "\n",
    "\n",
    "param='max_depth'\n",
    "param_range = range(3,50,5)\n",
    "train_scores, test_scores = validation_curve(RandomForestClassifier(), X_train_train.append(X_train_test), y_train_train.append(y_train_test),\n",
    "                                            param_name=param,\n",
    "                                            param_range=param_range, cv=10)\n",
    "train_scores_mean = np.mean(train_scores, axis=1)\n",
    "train_scores_std = np.std(train_scores, axis=1)\n",
    "test_scores_mean = np.mean(test_scores, axis=1)\n",
    "test_scores_std = np.std(test_scores, axis=1)\n",
    "\n",
    "plt.title(\"RAF BL with RandomForestClassifier\")\n",
    "plt.xlabel(param)\n",
    "plt.ylabel(\"Score\")\n",
    "plt.axvline(x=18, color='r', linestyle='--',lw=1)\n",
    "#plt.ylim(0.0, 1.1)\n",
    "lw = 2\n",
    "plt.semilogx(param_range, train_scores_mean, label=\"Training score\",\n",
    "             color=\"darkorange\", lw=lw)\n",
    "plt.fill_between(param_range, train_scores_mean - train_scores_std,\n",
    "                 train_scores_mean + train_scores_std, alpha=0.2,\n",
    "                 color=\"darkorange\", lw=lw)\n",
    "plt.semilogx(param_range, test_scores_mean, label=\"Cross-validation score\",\n",
    "             color=\"navy\", lw=lw)\n",
    "plt.fill_between(param_range, test_scores_mean - test_scores_std,\n",
    "                 test_scores_mean + test_scores_std, alpha=0.2,\n",
    "                 color=\"navy\", lw=lw)\n",
    "plt.legend(loc=\"best\")\n",
    "plt.show()"
   ]
  },
  {
   "cell_type": "code",
   "execution_count": 101,
   "metadata": {},
   "outputs": [],
   "source": [
    "#clf = tree.DecisionTreeClassifier(max_depth=5,min_samples_split=10,min_samples_leaf=10)\n",
    "clf = RandomForestClassifier(max_depth=25,random_state=10)"
   ]
  },
  {
   "cell_type": "code",
   "execution_count": 102,
   "metadata": {},
   "outputs": [],
   "source": [
    "def report(y, y_pred, classes):\n",
    "    acc = accuracy_score(y, y_pred)\n",
    "                        \n",
    "    cm = pd.DataFrame(confusion_matrix(y, y_pred), \n",
    "                      index=classes, \n",
    "                      columns=classes)\n",
    "    rep = classification_report(y, y_pred)\n",
    "\n",
    "    \n",
    "    return '{:.3f}\\n\\n{}\\n\\n{}'.format(acc, cm, rep)"
   ]
  },
  {
   "cell_type": "code",
   "execution_count": 103,
   "metadata": {},
   "outputs": [
    {
     "name": "stdout",
     "output_type": "stream",
     "text": [
      "0.977\n",
      "\n",
      "       No   Yes\n",
      "No   2975    43\n",
      "Yes    50  1062\n",
      "\n",
      "              precision    recall  f1-score   support\n",
      "\n",
      "           0       0.98      0.99      0.98      3018\n",
      "           1       0.96      0.96      0.96      1112\n",
      "\n",
      "   micro avg       0.98      0.98      0.98      4130\n",
      "   macro avg       0.97      0.97      0.97      4130\n",
      "weighted avg       0.98      0.98      0.98      4130\n",
      "\n"
     ]
    }
   ],
   "source": [
    "clf = clf.fit(X_train_train, y_train_train)\n",
    "y_pred=clf.predict(X_train_test)\n",
    "print( report(y_train_test,y_pred, ['No','Yes']))"
   ]
  },
  {
   "cell_type": "markdown",
   "metadata": {},
   "source": [
    "### Feature Importance"
   ]
  },
  {
   "cell_type": "code",
   "execution_count": 96,
   "metadata": {},
   "outputs": [
    {
     "data": {
      "image/png": "[encoded data removed]",
      "text/plain": [
       "<matplotlib.figure.Figure at 0xc114278>"
      ]
     },
     "metadata": {},
     "output_type": "display_data"
    }
   ],
   "source": [
    "features = X_train_train.columns\n",
    "importances = clf.feature_importances_\n",
    "indices = np.argsort(importances)\n",
    "plt.figure(figsize=(5,8))\n",
    "plt.title('Feature Importances')\n",
    "plt.barh(range(len(indices)), importances[indices], color='b', align='center')\n",
    "plt.yticks(range(len(indices)), [features[i] for i in indices])\n",
    "plt.xlabel('Relative Importance')\n",
    "plt.show()"
   ]
  },
  {
   "cell_type": "code",
   "execution_count": 97,
   "metadata": {},
   "outputs": [
    {
     "data": {
      "text/plain": [
       "True"
      ]
     },
     "execution_count": 97,
     "metadata": {},
     "output_type": "execute_result"
    }
   ],
   "source": [
    "import collections\n",
    "dot_data = tree.export_graphviz(clf.estimators_[0],\n",
    "                                feature_names=X_train_train.columns,\n",
    "                                out_file=None,\n",
    "                                filled=True,\n",
    "                                rounded=True)\n",
    "graph = pydotplus.graph_from_dot_data(dot_data)\n",
    "\n",
    "colors = ('turquoise', 'orange')\n",
    "edges = collections.defaultdict(list)\n",
    "\n",
    "for edge in graph.get_edge_list():\n",
    "    edges[edge.get_source()].append(int(edge.get_destination()))\n",
    "\n",
    "for edge in edges:\n",
    "    edges[edge].sort()    \n",
    "    for i in range(2):\n",
    "        dest = graph.get_node(str(edges[edge][i]))[0]\n",
    "        dest.set_fillcolor(colors[i])\n",
    "\n",
    "graph.write_png('tree.png')"
   ]
  },
  {
   "cell_type": "markdown",
   "metadata": {},
   "source": [
    "#### Validate the model"
   ]
  },
  {
   "cell_type": "code",
   "execution_count": 98,
   "metadata": {},
   "outputs": [
    {
     "name": "stdout",
     "output_type": "stream",
     "text": [
      "0.983\n",
      "\n",
      "        No   Yes\n",
      "No   84439  1429\n",
      "Yes     87  1527\n",
      "\n",
      "              precision    recall  f1-score   support\n",
      "\n",
      "           0       1.00      0.98      0.99     85868\n",
      "           1       0.52      0.95      0.67      1614\n",
      "\n",
      "   micro avg       0.98      0.98      0.98     87482\n",
      "   macro avg       0.76      0.96      0.83     87482\n",
      "weighted avg       0.99      0.98      0.99     87482\n",
      "\n"
     ]
    }
   ],
   "source": [
    "y_validate_pred=clf.predict(X_validate)\n",
    "print(report(y_validate,y_validate_pred, ['No','Yes']))"
   ]
  },
  {
   "cell_type": "markdown",
   "metadata": {},
   "source": [
    "*Need to check the 1429 calls perhaps they are fraud ...*"
   ]
  },
  {
   "cell_type": "markdown",
   "metadata": {},
   "source": [
    "# Conclusion & What next"
   ]
  },
  {
   "cell_type": "markdown",
   "metadata": {},
   "source": [
    "* we get good results with RandomForest model , however we need to test the model with more data that we can get from DTAG . \n",
    "  with more data we will need to retrain the model and perhaps find other feature that are important .\n",
    "\n",
    "* More Data will give us more information about , for example , \"session start hour \" or \" WeekEnd or Not\" etc...\n",
    "  Add some features are another part to improve results , like , customer's seniority etc ..\n",
    "\n",
    "* The goal now is to find the best product based on data science to avoid fraud ."
   ]
  },
  {
   "cell_type": "code",
   "execution_count": null,
   "metadata": {},
   "outputs": [],
   "source": []
  }
 ],
 "metadata": {
  "kernelspec": {
   "display_name": "Python 2",
   "language": "python",
   "name": "python2"
  },
  "language_info": {
   "codemirror_mode": {
    "name": "ipython",
    "version": 2
   },
   "file_extension": ".py",
   "mimetype": "text/x-python",
   "name": "python",
   "nbconvert_exporter": "python",
   "pygments_lexer": "ipython2",
   "version": "2.7.15"
  }
 },
 "nbformat": 4,
 "nbformat_minor": 2
}
